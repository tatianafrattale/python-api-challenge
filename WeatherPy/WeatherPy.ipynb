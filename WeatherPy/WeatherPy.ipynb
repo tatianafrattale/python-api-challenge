{
 "cells": [
  {
   "cell_type": "markdown",
   "metadata": {},
   "source": [
    "# WeatherPy\n",
    "----\n",
    "\n",
    "#### Note\n",
    "* Instructions have been included for each segment. You do not have to follow them exactly, but they are included to help you think through the steps.\n",
    "\n",
    "Observations:\n",
    "- According to the Max Temp vs Lattitude plot, the closer the lattitude gets to the equator, the higher the temperatures get. However, the highest temperatures can be found between 20 and 40 degrees in the Northern Hemisphere. \n",
    "- There does not seem to be a correlation between Latitude and Humidity, Cloudiness, or Wind Speed.\n",
    "- Upon analyzing the the Hemisphere Lattitude vs Max Temp scatter plots, the Southern Hemisphere and Northern Hemisphere have inverse relationships with Max Temp. The Southern Hemisphere has a strong positive correlation, while the Northern Hemisphere has a strong negative correlation. This allows us to once again infer that the further away the lattitude is from the equator, the colder it will be.\n"
   ]
  },
  {
   "cell_type": "code",
   "execution_count": 1,
   "metadata": {
    "scrolled": true
   },
   "outputs": [],
   "source": [
    "# Dependencies and Setup\n",
    "import matplotlib.pyplot as plt\n",
    "import pandas as pd\n",
    "import numpy as np\n",
    "import requests\n",
    "import time\n",
    "from scipy.stats import linregress\n",
    "from pprint import pprint\n",
    "import time\n",
    "\n",
    "# Import API key\n",
    "from api_keys import weather_api_key\n",
    "\n",
    "# Incorporated citipy to determine city based on latitude and longitude\n",
    "from citipy import citipy\n",
    "\n",
    "# Output File (CSV)\n",
    "output_data_file = \"output_data/cities.csv\"\n",
    "\n",
    "# Range of latitudes and longitudes\n",
    "lat_range = (-90, 90)\n",
    "lng_range = (-180, 180)"
   ]
  },
  {
   "cell_type": "markdown",
   "metadata": {},
   "source": [
    "## Generate Cities List"
   ]
  },
  {
   "cell_type": "code",
   "execution_count": 3,
   "metadata": {},
   "outputs": [
    {
     "data": {
      "text/plain": [
       "612"
      ]
     },
     "execution_count": 3,
     "metadata": {},
     "output_type": "execute_result"
    }
   ],
   "source": [
    "# List for holding lat_lngs and cities\n",
    "lat_lngs = []\n",
    "cities = []\n",
    "\n",
    "# Create a set of random lat and lng combinations\n",
    "lats = np.random.uniform(lat_range[0], lat_range[1], size=1500)\n",
    "lngs = np.random.uniform(lng_range[0], lng_range[1], size=1500)\n",
    "lat_lngs = zip(lats, lngs)\n",
    "\n",
    "# Identify nearest city for each lat, lng combination\n",
    "for lat_lng in lat_lngs:\n",
    "    city = citipy.nearest_city(lat_lng[0], lat_lng[1]).city_name\n",
    "    \n",
    "    # If the city is unique, then add it to a our cities list\n",
    "    if city not in cities:\n",
    "        cities.append(city)\n",
    "\n",
    "# Print the city count to confirm sufficient count\n",
    "len(cities)\n"
   ]
  },
  {
   "cell_type": "markdown",
   "metadata": {},
   "source": [
    "### Perform API Calls\n",
    "* Perform a weather check on each city using a series of successive API calls.\n",
    "* Include a print log of each city as it'sbeing processed (with the city number and city name).\n"
   ]
  },
  {
   "cell_type": "code",
   "execution_count": 4,
   "metadata": {
    "scrolled": true
   },
   "outputs": [
    {
     "name": "stdout",
     "output_type": "stream",
     "text": [
      "Beginning Data Retrieval\n",
      "-------------------------------\n",
      "Processing Record 1| Tilichiki\n",
      "http://api.openweathermap.org/data/2.5/weather?units=Imperial&APPID=213d535e09919766a866e1c56931a9c1&q=tilichiki\n",
      "Processing Record 2| Hermanus\n",
      "http://api.openweathermap.org/data/2.5/weather?units=Imperial&APPID=213d535e09919766a866e1c56931a9c1&q=hermanus\n",
      "City not found. Skipping to next city...\n",
      "Processing Record 3| Isangel\n",
      "http://api.openweathermap.org/data/2.5/weather?units=Imperial&APPID=213d535e09919766a866e1c56931a9c1&q=isangel\n",
      "Processing Record 4| Hobart\n",
      "http://api.openweathermap.org/data/2.5/weather?units=Imperial&APPID=213d535e09919766a866e1c56931a9c1&q=hobart\n",
      "Processing Record 5| Tegul'det\n",
      "http://api.openweathermap.org/data/2.5/weather?units=Imperial&APPID=213d535e09919766a866e1c56931a9c1&q=teguldet\n",
      "Processing Record 6| Clyde River\n",
      "http://api.openweathermap.org/data/2.5/weather?units=Imperial&APPID=213d535e09919766a866e1c56931a9c1&q=clyde river\n",
      "Processing Record 7| Antalaha\n",
      "http://api.openweathermap.org/data/2.5/weather?units=Imperial&APPID=213d535e09919766a866e1c56931a9c1&q=antalaha\n",
      "Processing Record 8| Punta Arenas\n",
      "http://api.openweathermap.org/data/2.5/weather?units=Imperial&APPID=213d535e09919766a866e1c56931a9c1&q=punta arenas\n",
      "Processing Record 9| Sitka\n",
      "http://api.openweathermap.org/data/2.5/weather?units=Imperial&APPID=213d535e09919766a866e1c56931a9c1&q=sitka\n",
      "Processing Record 10| Avigliana\n",
      "http://api.openweathermap.org/data/2.5/weather?units=Imperial&APPID=213d535e09919766a866e1c56931a9c1&q=avigliana\n",
      "Processing Record 11| Ponta Delgada\n",
      "http://api.openweathermap.org/data/2.5/weather?units=Imperial&APPID=213d535e09919766a866e1c56931a9c1&q=ponta delgada\n",
      "Processing Record 12| Torbay\n",
      "http://api.openweathermap.org/data/2.5/weather?units=Imperial&APPID=213d535e09919766a866e1c56931a9c1&q=torbay\n",
      "Processing Record 13| Calama\n",
      "http://api.openweathermap.org/data/2.5/weather?units=Imperial&APPID=213d535e09919766a866e1c56931a9c1&q=calama\n",
      "Processing Record 14| Bathsheba\n",
      "http://api.openweathermap.org/data/2.5/weather?units=Imperial&APPID=213d535e09919766a866e1c56931a9c1&q=bathsheba\n",
      "Processing Record 15| Tshela\n",
      "http://api.openweathermap.org/data/2.5/weather?units=Imperial&APPID=213d535e09919766a866e1c56931a9c1&q=tshela\n",
      "Processing Record 16| Saskylakh\n",
      "http://api.openweathermap.org/data/2.5/weather?units=Imperial&APPID=213d535e09919766a866e1c56931a9c1&q=saskylakh\n",
      "Processing Record 17| Eshowe\n",
      "http://api.openweathermap.org/data/2.5/weather?units=Imperial&APPID=213d535e09919766a866e1c56931a9c1&q=eshowe\n",
      "Processing Record 18| Edgewater\n",
      "http://api.openweathermap.org/data/2.5/weather?units=Imperial&APPID=213d535e09919766a866e1c56931a9c1&q=edgewater\n",
      "Processing Record 19| Kapaa\n",
      "http://api.openweathermap.org/data/2.5/weather?units=Imperial&APPID=213d535e09919766a866e1c56931a9c1&q=kapaa\n",
      "Processing Record 20| Hilo\n",
      "http://api.openweathermap.org/data/2.5/weather?units=Imperial&APPID=213d535e09919766a866e1c56931a9c1&q=hilo\n",
      "Processing Record 21| Grand-Santi\n",
      "http://api.openweathermap.org/data/2.5/weather?units=Imperial&APPID=213d535e09919766a866e1c56931a9c1&q=grand-santi\n",
      "Processing Record 22| Busselton\n",
      "http://api.openweathermap.org/data/2.5/weather?units=Imperial&APPID=213d535e09919766a866e1c56931a9c1&q=busselton\n",
      "Processing Record 23| Kaiyuan\n",
      "http://api.openweathermap.org/data/2.5/weather?units=Imperial&APPID=213d535e09919766a866e1c56931a9c1&q=kaiyuan\n",
      "City not found. Skipping to next city...\n",
      "Processing Record 24| Ushuaia\n",
      "http://api.openweathermap.org/data/2.5/weather?units=Imperial&APPID=213d535e09919766a866e1c56931a9c1&q=ushuaia\n",
      "Processing Record 25| Oruzgan\n",
      "http://api.openweathermap.org/data/2.5/weather?units=Imperial&APPID=213d535e09919766a866e1c56931a9c1&q=uruzgan\n",
      "Processing Record 26| At-Bashi\n",
      "http://api.openweathermap.org/data/2.5/weather?units=Imperial&APPID=213d535e09919766a866e1c56931a9c1&q=at-bashi\n",
      "Processing Record 27| Chui\n",
      "http://api.openweathermap.org/data/2.5/weather?units=Imperial&APPID=213d535e09919766a866e1c56931a9c1&q=chuy\n",
      "Processing Record 28| La Libertad\n",
      "http://api.openweathermap.org/data/2.5/weather?units=Imperial&APPID=213d535e09919766a866e1c56931a9c1&q=la libertad\n",
      "Processing Record 29| Tuktoyaktuk\n",
      "http://api.openweathermap.org/data/2.5/weather?units=Imperial&APPID=213d535e09919766a866e1c56931a9c1&q=tuktoyaktuk\n",
      "Processing Record 30| Mar del Plata\n",
      "http://api.openweathermap.org/data/2.5/weather?units=Imperial&APPID=213d535e09919766a866e1c56931a9c1&q=mar del plata\n",
      "Processing Record 31| Baykit\n",
      "http://api.openweathermap.org/data/2.5/weather?units=Imperial&APPID=213d535e09919766a866e1c56931a9c1&q=baykit\n",
      "City not found. Skipping to next city...\n",
      "Processing Record 32| Bilma\n",
      "http://api.openweathermap.org/data/2.5/weather?units=Imperial&APPID=213d535e09919766a866e1c56931a9c1&q=bilma\n",
      "City not found. Skipping to next city...\n",
      "Processing Record 33| Saldanha\n",
      "http://api.openweathermap.org/data/2.5/weather?units=Imperial&APPID=213d535e09919766a866e1c56931a9c1&q=saldanha\n",
      "Processing Record 34| East London\n",
      "http://api.openweathermap.org/data/2.5/weather?units=Imperial&APPID=213d535e09919766a866e1c56931a9c1&q=east london\n",
      "Processing Record 35| Geraldton\n",
      "http://api.openweathermap.org/data/2.5/weather?units=Imperial&APPID=213d535e09919766a866e1c56931a9c1&q=geraldton\n",
      "Processing Record 36| Mount Gambier\n",
      "http://api.openweathermap.org/data/2.5/weather?units=Imperial&APPID=213d535e09919766a866e1c56931a9c1&q=mount gambier\n",
      "Processing Record 37| Jinka\n",
      "http://api.openweathermap.org/data/2.5/weather?units=Imperial&APPID=213d535e09919766a866e1c56931a9c1&q=jinka\n",
      "Processing Record 38| Laguna\n",
      "http://api.openweathermap.org/data/2.5/weather?units=Imperial&APPID=213d535e09919766a866e1c56931a9c1&q=laguna\n",
      "Processing Record 39| Narsaq\n",
      "http://api.openweathermap.org/data/2.5/weather?units=Imperial&APPID=213d535e09919766a866e1c56931a9c1&q=narsaq\n",
      "Processing Record 40| Lourdes\n",
      "http://api.openweathermap.org/data/2.5/weather?units=Imperial&APPID=213d535e09919766a866e1c56931a9c1&q=lourdes\n",
      "Processing Record 41| Varkaus\n",
      "http://api.openweathermap.org/data/2.5/weather?units=Imperial&APPID=213d535e09919766a866e1c56931a9c1&q=varkaus\n",
      "Processing Record 42| Kulhudhuffushi\n",
      "http://api.openweathermap.org/data/2.5/weather?units=Imperial&APPID=213d535e09919766a866e1c56931a9c1&q=kulhudhuffushi\n",
      "Processing Record 43| Yulara\n",
      "http://api.openweathermap.org/data/2.5/weather?units=Imperial&APPID=213d535e09919766a866e1c56931a9c1&q=yulara\n",
      "Processing Record 44| El Banco\n",
      "http://api.openweathermap.org/data/2.5/weather?units=Imperial&APPID=213d535e09919766a866e1c56931a9c1&q=el banco\n",
      "Processing Record 45| Bahía Honda\n",
      "http://api.openweathermap.org/data/2.5/weather?units=Imperial&APPID=213d535e09919766a866e1c56931a9c1&q=bahia honda\n",
      "Processing Record 46| Khatanga\n",
      "http://api.openweathermap.org/data/2.5/weather?units=Imperial&APPID=213d535e09919766a866e1c56931a9c1&q=khatanga\n",
      "Processing Record 47| Ponta do Sol\n",
      "http://api.openweathermap.org/data/2.5/weather?units=Imperial&APPID=213d535e09919766a866e1c56931a9c1&q=ponta do sol\n",
      "Processing Record 48| Provideniya\n",
      "http://api.openweathermap.org/data/2.5/weather?units=Imperial&APPID=213d535e09919766a866e1c56931a9c1&q=provideniya\n",
      "Processing Record 49| Vaini\n",
      "http://api.openweathermap.org/data/2.5/weather?units=Imperial&APPID=213d535e09919766a866e1c56931a9c1&q=vaini\n",
      "Processing Record 50| Thompson\n",
      "http://api.openweathermap.org/data/2.5/weather?units=Imperial&APPID=213d535e09919766a866e1c56931a9c1&q=thompson\n",
      "City not found. Skipping to next city...\n",
      "Processing Record 51| Labuhan\n",
      "http://api.openweathermap.org/data/2.5/weather?units=Imperial&APPID=213d535e09919766a866e1c56931a9c1&q=labuhan\n",
      "City not found. Skipping to next city...\n",
      "Processing Record 52| Ostrovnoy\n",
      "http://api.openweathermap.org/data/2.5/weather?units=Imperial&APPID=213d535e09919766a866e1c56931a9c1&q=ostrovnoy\n",
      "Processing Record 53| Batemans Bay\n",
      "http://api.openweathermap.org/data/2.5/weather?units=Imperial&APPID=213d535e09919766a866e1c56931a9c1&q=batemans bay\n",
      "Processing Record 54| Chokurdakh\n",
      "http://api.openweathermap.org/data/2.5/weather?units=Imperial&APPID=213d535e09919766a866e1c56931a9c1&q=chokurdakh\n",
      "Processing Record 55| Sola\n",
      "http://api.openweathermap.org/data/2.5/weather?units=Imperial&APPID=213d535e09919766a866e1c56931a9c1&q=sola\n",
      "Processing Record 56| Lac du Bonnet\n",
      "http://api.openweathermap.org/data/2.5/weather?units=Imperial&APPID=213d535e09919766a866e1c56931a9c1&q=lac du bonnet\n"
     ]
    },
    {
     "name": "stdout",
     "output_type": "stream",
     "text": [
      "Processing Record 57| Bo Rai\n",
      "http://api.openweathermap.org/data/2.5/weather?units=Imperial&APPID=213d535e09919766a866e1c56931a9c1&q=bo rai\n",
      "City not found. Skipping to next city...\n",
      "Processing Record 58| Jamestown\n",
      "http://api.openweathermap.org/data/2.5/weather?units=Imperial&APPID=213d535e09919766a866e1c56931a9c1&q=jamestown\n",
      "Processing Record 59| Rikitea\n",
      "http://api.openweathermap.org/data/2.5/weather?units=Imperial&APPID=213d535e09919766a866e1c56931a9c1&q=rikitea\n",
      "Processing Record 60| Werda\n",
      "http://api.openweathermap.org/data/2.5/weather?units=Imperial&APPID=213d535e09919766a866e1c56931a9c1&q=werda\n",
      "Processing Record 61| Gimli\n",
      "http://api.openweathermap.org/data/2.5/weather?units=Imperial&APPID=213d535e09919766a866e1c56931a9c1&q=gimli\n",
      "Processing Record 62| Mthatha\n",
      "http://api.openweathermap.org/data/2.5/weather?units=Imperial&APPID=213d535e09919766a866e1c56931a9c1&q=umtata\n",
      "Processing Record 63| Mataura\n",
      "http://api.openweathermap.org/data/2.5/weather?units=Imperial&APPID=213d535e09919766a866e1c56931a9c1&q=mataura\n",
      "Processing Record 64| Talcahuano\n",
      "http://api.openweathermap.org/data/2.5/weather?units=Imperial&APPID=213d535e09919766a866e1c56931a9c1&q=talcahuano\n",
      "Processing Record 65| Puerto Ayora\n",
      "http://api.openweathermap.org/data/2.5/weather?units=Imperial&APPID=213d535e09919766a866e1c56931a9c1&q=puerto ayora\n",
      "City not found. Skipping to next city...\n",
      "Processing Record 66| Breytovo\n",
      "http://api.openweathermap.org/data/2.5/weather?units=Imperial&APPID=213d535e09919766a866e1c56931a9c1&q=breytovo\n",
      "Processing Record 67| Klaksvík\n",
      "http://api.openweathermap.org/data/2.5/weather?units=Imperial&APPID=213d535e09919766a866e1c56931a9c1&q=klaksvik\n",
      "Processing Record 68| Sur\n",
      "http://api.openweathermap.org/data/2.5/weather?units=Imperial&APPID=213d535e09919766a866e1c56931a9c1&q=sur\n",
      "Processing Record 69| Carnarvon\n",
      "http://api.openweathermap.org/data/2.5/weather?units=Imperial&APPID=213d535e09919766a866e1c56931a9c1&q=carnarvon\n",
      "City not found. Skipping to next city...\n",
      "Processing Record 70| Ketchikan\n",
      "http://api.openweathermap.org/data/2.5/weather?units=Imperial&APPID=213d535e09919766a866e1c56931a9c1&q=ketchikan\n",
      "Processing Record 71| Yellowknife\n",
      "http://api.openweathermap.org/data/2.5/weather?units=Imperial&APPID=213d535e09919766a866e1c56931a9c1&q=yellowknife\n",
      "Processing Record 72| Forsytheganj\n",
      "http://api.openweathermap.org/data/2.5/weather?units=Imperial&APPID=213d535e09919766a866e1c56931a9c1&q=svetlogorsk\n",
      "Processing Record 73| Husavik\n",
      "http://api.openweathermap.org/data/2.5/weather?units=Imperial&APPID=213d535e09919766a866e1c56931a9c1&q=husavik\n",
      "Processing Record 74| Port Alfred\n",
      "http://api.openweathermap.org/data/2.5/weather?units=Imperial&APPID=213d535e09919766a866e1c56931a9c1&q=port alfred\n",
      "Processing Record 75| Lebu\n",
      "http://api.openweathermap.org/data/2.5/weather?units=Imperial&APPID=213d535e09919766a866e1c56931a9c1&q=lebu\n",
      "Processing Record 76| Kostanay\n",
      "http://api.openweathermap.org/data/2.5/weather?units=Imperial&APPID=213d535e09919766a866e1c56931a9c1&q=qostanay\n",
      "Processing Record 77| Cidreira\n",
      "http://api.openweathermap.org/data/2.5/weather?units=Imperial&APPID=213d535e09919766a866e1c56931a9c1&q=cidreira\n",
      "Processing Record 78| Abhā\n",
      "http://api.openweathermap.org/data/2.5/weather?units=Imperial&APPID=213d535e09919766a866e1c56931a9c1&q=abha\n",
      "City not found. Skipping to next city...\n",
      "Processing Record 79| Broken Hill\n",
      "http://api.openweathermap.org/data/2.5/weather?units=Imperial&APPID=213d535e09919766a866e1c56931a9c1&q=broken hill\n",
      "Processing Record 80| Ushtobe\n",
      "http://api.openweathermap.org/data/2.5/weather?units=Imperial&APPID=213d535e09919766a866e1c56931a9c1&q=ushtobe\n",
      "Processing Record 81| Brazzaville\n",
      "http://api.openweathermap.org/data/2.5/weather?units=Imperial&APPID=213d535e09919766a866e1c56931a9c1&q=brazzaville\n",
      "Processing Record 82| New Norfolk\n",
      "http://api.openweathermap.org/data/2.5/weather?units=Imperial&APPID=213d535e09919766a866e1c56931a9c1&q=new norfolk\n",
      "Processing Record 83| Aksu\n",
      "http://api.openweathermap.org/data/2.5/weather?units=Imperial&APPID=213d535e09919766a866e1c56931a9c1&q=aksu\n",
      "Processing Record 84| Port Lincoln\n",
      "http://api.openweathermap.org/data/2.5/weather?units=Imperial&APPID=213d535e09919766a866e1c56931a9c1&q=port lincoln\n",
      "Processing Record 85| Yatou\n",
      "http://api.openweathermap.org/data/2.5/weather?units=Imperial&APPID=213d535e09919766a866e1c56931a9c1&q=yatou\n",
      "Processing Record 86| Port Hawkesbury\n",
      "http://api.openweathermap.org/data/2.5/weather?units=Imperial&APPID=213d535e09919766a866e1c56931a9c1&q=port hawkesbury\n",
      "Processing Record 87| Morondava\n",
      "http://api.openweathermap.org/data/2.5/weather?units=Imperial&APPID=213d535e09919766a866e1c56931a9c1&q=morondava\n",
      "Processing Record 88| Tuatapere\n",
      "http://api.openweathermap.org/data/2.5/weather?units=Imperial&APPID=213d535e09919766a866e1c56931a9c1&q=tuatapere\n",
      "Processing Record 89| Bredasdorp\n",
      "http://api.openweathermap.org/data/2.5/weather?units=Imperial&APPID=213d535e09919766a866e1c56931a9c1&q=bredasdorp\n",
      "City not found. Skipping to next city...\n",
      "Processing Record 90| Tarragona\n",
      "http://api.openweathermap.org/data/2.5/weather?units=Imperial&APPID=213d535e09919766a866e1c56931a9c1&q=tarragona\n",
      "Processing Record 91| Gogrial\n",
      "http://api.openweathermap.org/data/2.5/weather?units=Imperial&APPID=213d535e09919766a866e1c56931a9c1&q=gogrial\n",
      "Processing Record 92| Bluff\n",
      "http://api.openweathermap.org/data/2.5/weather?units=Imperial&APPID=213d535e09919766a866e1c56931a9c1&q=bluff\n",
      "Processing Record 93| Lucapa\n",
      "http://api.openweathermap.org/data/2.5/weather?units=Imperial&APPID=213d535e09919766a866e1c56931a9c1&q=lucapa\n",
      "Processing Record 94| Pevek\n",
      "http://api.openweathermap.org/data/2.5/weather?units=Imperial&APPID=213d535e09919766a866e1c56931a9c1&q=pevek\n",
      "Processing Record 95| Bethel\n",
      "http://api.openweathermap.org/data/2.5/weather?units=Imperial&APPID=213d535e09919766a866e1c56931a9c1&q=bethel\n",
      "City not found. Skipping to next city...\n",
      "Processing Record 96| Pacifica\n",
      "http://api.openweathermap.org/data/2.5/weather?units=Imperial&APPID=213d535e09919766a866e1c56931a9c1&q=pacifica\n",
      "Processing Record 97| Castro\n",
      "http://api.openweathermap.org/data/2.5/weather?units=Imperial&APPID=213d535e09919766a866e1c56931a9c1&q=castro\n",
      "Processing Record 98| Shar\n",
      "http://api.openweathermap.org/data/2.5/weather?units=Imperial&APPID=213d535e09919766a866e1c56931a9c1&q=shar\n",
      "Processing Record 99| Coquimbo\n",
      "http://api.openweathermap.org/data/2.5/weather?units=Imperial&APPID=213d535e09919766a866e1c56931a9c1&q=coquimbo\n",
      "Processing Record 100| Kez\n",
      "http://api.openweathermap.org/data/2.5/weather?units=Imperial&APPID=213d535e09919766a866e1c56931a9c1&q=kez\n",
      "Processing Record 101| Port Elizabeth\n",
      "http://api.openweathermap.org/data/2.5/weather?units=Imperial&APPID=213d535e09919766a866e1c56931a9c1&q=port elizabeth\n",
      "Processing Record 102| Taltal\n",
      "http://api.openweathermap.org/data/2.5/weather?units=Imperial&APPID=213d535e09919766a866e1c56931a9c1&q=taltal\n",
      "Processing Record 103| Butaritari\n",
      "http://api.openweathermap.org/data/2.5/weather?units=Imperial&APPID=213d535e09919766a866e1c56931a9c1&q=butaritari\n",
      "Processing Record 104| Hay River\n",
      "http://api.openweathermap.org/data/2.5/weather?units=Imperial&APPID=213d535e09919766a866e1c56931a9c1&q=hay river\n",
      "Processing Record 105| Dikson\n",
      "http://api.openweathermap.org/data/2.5/weather?units=Imperial&APPID=213d535e09919766a866e1c56931a9c1&q=dikson\n",
      "Processing Record 106| Saint Paul Harbor\n",
      "http://api.openweathermap.org/data/2.5/weather?units=Imperial&APPID=213d535e09919766a866e1c56931a9c1&q=kodiak\n",
      "Processing Record 107| Inhambane\n",
      "http://api.openweathermap.org/data/2.5/weather?units=Imperial&APPID=213d535e09919766a866e1c56931a9c1&q=inhambane\n",
      "Processing Record 108| Saint George\n",
      "http://api.openweathermap.org/data/2.5/weather?units=Imperial&APPID=213d535e09919766a866e1c56931a9c1&q=saint george\n",
      "Processing Record 109| Nuuk\n",
      "http://api.openweathermap.org/data/2.5/weather?units=Imperial&APPID=213d535e09919766a866e1c56931a9c1&q=nuuk\n",
      "Processing Record 110| Phonhong\n",
      "http://api.openweathermap.org/data/2.5/weather?units=Imperial&APPID=213d535e09919766a866e1c56931a9c1&q=phonhong\n",
      "Processing Record 111| Samarina\n",
      "http://api.openweathermap.org/data/2.5/weather?units=Imperial&APPID=213d535e09919766a866e1c56931a9c1&q=samarina\n",
      "City not found. Skipping to next city...\n",
      "Processing Record 112| Saint-Philippe\n",
      "http://api.openweathermap.org/data/2.5/weather?units=Imperial&APPID=213d535e09919766a866e1c56931a9c1&q=saint-philippe\n"
     ]
    },
    {
     "name": "stdout",
     "output_type": "stream",
     "text": [
      "Processing Record 113| Bonavista\n",
      "http://api.openweathermap.org/data/2.5/weather?units=Imperial&APPID=213d535e09919766a866e1c56931a9c1&q=bonavista\n",
      "City not found. Skipping to next city...\n",
      "Processing Record 114| Funtua\n",
      "http://api.openweathermap.org/data/2.5/weather?units=Imperial&APPID=213d535e09919766a866e1c56931a9c1&q=funtua\n",
      "Processing Record 115| Colares\n",
      "http://api.openweathermap.org/data/2.5/weather?units=Imperial&APPID=213d535e09919766a866e1c56931a9c1&q=colares\n",
      "Processing Record 116| Qaanaaq\n",
      "http://api.openweathermap.org/data/2.5/weather?units=Imperial&APPID=213d535e09919766a866e1c56931a9c1&q=qaanaaq\n",
      "Processing Record 117| Asău\n",
      "http://api.openweathermap.org/data/2.5/weather?units=Imperial&APPID=213d535e09919766a866e1c56931a9c1&q=asau\n",
      "Processing Record 118| Padang\n",
      "http://api.openweathermap.org/data/2.5/weather?units=Imperial&APPID=213d535e09919766a866e1c56931a9c1&q=padang\n",
      "Processing Record 119| Kruisfontein\n",
      "http://api.openweathermap.org/data/2.5/weather?units=Imperial&APPID=213d535e09919766a866e1c56931a9c1&q=kruisfontein\n",
      "Processing Record 120| Gwadar\n",
      "http://api.openweathermap.org/data/2.5/weather?units=Imperial&APPID=213d535e09919766a866e1c56931a9c1&q=gwadar\n",
      "Processing Record 121| Paamiut\n",
      "http://api.openweathermap.org/data/2.5/weather?units=Imperial&APPID=213d535e09919766a866e1c56931a9c1&q=paamiut\n",
      "Processing Record 122| Bambous Virieux\n",
      "http://api.openweathermap.org/data/2.5/weather?units=Imperial&APPID=213d535e09919766a866e1c56931a9c1&q=bambous virieux\n",
      "Processing Record 123| Kushima\n",
      "http://api.openweathermap.org/data/2.5/weather?units=Imperial&APPID=213d535e09919766a866e1c56931a9c1&q=kushima\n",
      "Processing Record 124| Chunskiy\n",
      "http://api.openweathermap.org/data/2.5/weather?units=Imperial&APPID=213d535e09919766a866e1c56931a9c1&q=chunskiy\n",
      "Processing Record 125| San Patricio\n",
      "http://api.openweathermap.org/data/2.5/weather?units=Imperial&APPID=213d535e09919766a866e1c56931a9c1&q=san patricio\n",
      "Processing Record 126| Kidal\n",
      "http://api.openweathermap.org/data/2.5/weather?units=Imperial&APPID=213d535e09919766a866e1c56931a9c1&q=kidal\n",
      "Processing Record 127| Mount Isa\n",
      "http://api.openweathermap.org/data/2.5/weather?units=Imperial&APPID=213d535e09919766a866e1c56931a9c1&q=mount isa\n",
      "Processing Record 128| Rokytne\n",
      "http://api.openweathermap.org/data/2.5/weather?units=Imperial&APPID=213d535e09919766a866e1c56931a9c1&q=rokytne\n",
      "Processing Record 129| Taoudenni\n",
      "http://api.openweathermap.org/data/2.5/weather?units=Imperial&APPID=213d535e09919766a866e1c56931a9c1&q=taoudenni\n",
      "Processing Record 130| Pauini\n",
      "http://api.openweathermap.org/data/2.5/weather?units=Imperial&APPID=213d535e09919766a866e1c56931a9c1&q=pauini\n",
      "Processing Record 131| Barrow\n",
      "http://api.openweathermap.org/data/2.5/weather?units=Imperial&APPID=213d535e09919766a866e1c56931a9c1&q=barrow\n",
      "Processing Record 132| Tasiilaq\n",
      "http://api.openweathermap.org/data/2.5/weather?units=Imperial&APPID=213d535e09919766a866e1c56931a9c1&q=tasiilaq\n",
      "Processing Record 133| Kraskino\n",
      "http://api.openweathermap.org/data/2.5/weather?units=Imperial&APPID=213d535e09919766a866e1c56931a9c1&q=kraskino\n",
      "Processing Record 134| Vila Velha\n",
      "http://api.openweathermap.org/data/2.5/weather?units=Imperial&APPID=213d535e09919766a866e1c56931a9c1&q=vila velha\n",
      "Processing Record 135| Te Anau\n",
      "http://api.openweathermap.org/data/2.5/weather?units=Imperial&APPID=213d535e09919766a866e1c56931a9c1&q=te anau\n",
      "Processing Record 136| Áratos\n",
      "http://api.openweathermap.org/data/2.5/weather?units=Imperial&APPID=213d535e09919766a866e1c56931a9c1&q=aratos\n",
      "Processing Record 137| Mossamedes\n",
      "http://api.openweathermap.org/data/2.5/weather?units=Imperial&APPID=213d535e09919766a866e1c56931a9c1&q=namibe\n",
      "Processing Record 138| Mineiros\n",
      "http://api.openweathermap.org/data/2.5/weather?units=Imperial&APPID=213d535e09919766a866e1c56931a9c1&q=mineiros\n",
      "Processing Record 139| São Félix do Xingu\n",
      "http://api.openweathermap.org/data/2.5/weather?units=Imperial&APPID=213d535e09919766a866e1c56931a9c1&q=sao felix do xingu\n",
      "Processing Record 140| Hong Kong\n",
      "http://api.openweathermap.org/data/2.5/weather?units=Imperial&APPID=213d535e09919766a866e1c56931a9c1&q=victoria\n",
      "Processing Record 141| Marabu\n",
      "http://api.openweathermap.org/data/2.5/weather?units=Imperial&APPID=213d535e09919766a866e1c56931a9c1&q=miri\n",
      "Processing Record 142| Isabela\n",
      "http://api.openweathermap.org/data/2.5/weather?units=Imperial&APPID=213d535e09919766a866e1c56931a9c1&q=isabela\n",
      "Processing Record 143| Metro\n",
      "http://api.openweathermap.org/data/2.5/weather?units=Imperial&APPID=213d535e09919766a866e1c56931a9c1&q=metro\n",
      "Processing Record 144| Tevriz\n",
      "http://api.openweathermap.org/data/2.5/weather?units=Imperial&APPID=213d535e09919766a866e1c56931a9c1&q=tevriz\n",
      "Processing Record 145| Dingle\n",
      "http://api.openweathermap.org/data/2.5/weather?units=Imperial&APPID=213d535e09919766a866e1c56931a9c1&q=dingle\n",
      "Processing Record 146| Tessalit\n",
      "http://api.openweathermap.org/data/2.5/weather?units=Imperial&APPID=213d535e09919766a866e1c56931a9c1&q=tessalit\n",
      "City not found. Skipping to next city...\n",
      "Processing Record 147| Ribeira Grande\n",
      "http://api.openweathermap.org/data/2.5/weather?units=Imperial&APPID=213d535e09919766a866e1c56931a9c1&q=ribeira grande\n",
      "Processing Record 148| Sungai Penuh\n",
      "http://api.openweathermap.org/data/2.5/weather?units=Imperial&APPID=213d535e09919766a866e1c56931a9c1&q=sungaipenuh\n",
      "Processing Record 149| Cap Malheureux\n",
      "http://api.openweathermap.org/data/2.5/weather?units=Imperial&APPID=213d535e09919766a866e1c56931a9c1&q=cap malheureux\n",
      "Processing Record 150| Cape Town\n",
      "http://api.openweathermap.org/data/2.5/weather?units=Imperial&APPID=213d535e09919766a866e1c56931a9c1&q=cape town\n",
      "Processing Record 151| Palmer\n",
      "http://api.openweathermap.org/data/2.5/weather?units=Imperial&APPID=213d535e09919766a866e1c56931a9c1&q=palmer\n",
      "Processing Record 152| San Angelo\n",
      "http://api.openweathermap.org/data/2.5/weather?units=Imperial&APPID=213d535e09919766a866e1c56931a9c1&q=san angelo\n",
      "Processing Record 153| Atuona\n",
      "http://api.openweathermap.org/data/2.5/weather?units=Imperial&APPID=213d535e09919766a866e1c56931a9c1&q=atuona\n",
      "Processing Record 154| Vanimo\n",
      "http://api.openweathermap.org/data/2.5/weather?units=Imperial&APPID=213d535e09919766a866e1c56931a9c1&q=vanimo\n",
      "Processing Record 155| Avarua\n",
      "http://api.openweathermap.org/data/2.5/weather?units=Imperial&APPID=213d535e09919766a866e1c56931a9c1&q=avarua\n",
      "Processing Record 156| North Bend\n",
      "http://api.openweathermap.org/data/2.5/weather?units=Imperial&APPID=213d535e09919766a866e1c56931a9c1&q=north bend\n",
      "Processing Record 157| Adrar\n",
      "http://api.openweathermap.org/data/2.5/weather?units=Imperial&APPID=213d535e09919766a866e1c56931a9c1&q=adrar\n",
      "Processing Record 158| Moussoro\n",
      "http://api.openweathermap.org/data/2.5/weather?units=Imperial&APPID=213d535e09919766a866e1c56931a9c1&q=moussoro\n",
      "Processing Record 159| Tadine\n",
      "http://api.openweathermap.org/data/2.5/weather?units=Imperial&APPID=213d535e09919766a866e1c56931a9c1&q=tadine\n",
      "Processing Record 160| George Town\n",
      "http://api.openweathermap.org/data/2.5/weather?units=Imperial&APPID=213d535e09919766a866e1c56931a9c1&q=georgetown\n",
      "Processing Record 161| Narasannapeta\n",
      "http://api.openweathermap.org/data/2.5/weather?units=Imperial&APPID=213d535e09919766a866e1c56931a9c1&q=narasannapeta\n",
      "Processing Record 162| Kwang Binh\n",
      "http://api.openweathermap.org/data/2.5/weather?units=Imperial&APPID=213d535e09919766a866e1c56931a9c1&q=dong hoi\n",
      "Processing Record 163| Nikolskoye\n",
      "http://api.openweathermap.org/data/2.5/weather?units=Imperial&APPID=213d535e09919766a866e1c56931a9c1&q=nikolskoye\n",
      "Processing Record 164| Armidale\n",
      "http://api.openweathermap.org/data/2.5/weather?units=Imperial&APPID=213d535e09919766a866e1c56931a9c1&q=armidale\n",
      "Processing Record 165| Havøysund\n",
      "http://api.openweathermap.org/data/2.5/weather?units=Imperial&APPID=213d535e09919766a866e1c56931a9c1&q=havoysund\n",
      "Processing Record 166| Esperance\n",
      "http://api.openweathermap.org/data/2.5/weather?units=Imperial&APPID=213d535e09919766a866e1c56931a9c1&q=esperance\n",
      "Processing Record 167| Portland\n",
      "http://api.openweathermap.org/data/2.5/weather?units=Imperial&APPID=213d535e09919766a866e1c56931a9c1&q=portland\n",
      "Processing Record 168| Jurilovca\n",
      "http://api.openweathermap.org/data/2.5/weather?units=Imperial&APPID=213d535e09919766a866e1c56931a9c1&q=jurilovca\n",
      "City not found. Skipping to next city...\n",
      "Processing Record 169| Río Gallegos\n",
      "http://api.openweathermap.org/data/2.5/weather?units=Imperial&APPID=213d535e09919766a866e1c56931a9c1&q=rio gallegos\n"
     ]
    },
    {
     "name": "stdout",
     "output_type": "stream",
     "text": [
      "Processing Record 170| Olinda\n",
      "http://api.openweathermap.org/data/2.5/weather?units=Imperial&APPID=213d535e09919766a866e1c56931a9c1&q=olinda\n",
      "City not found. Skipping to next city...\n",
      "Processing Record 171| Destin\n",
      "http://api.openweathermap.org/data/2.5/weather?units=Imperial&APPID=213d535e09919766a866e1c56931a9c1&q=destin\n",
      "City not found. Skipping to next city...\n",
      "City not found. Skipping to next city...\n",
      "Processing Record 172| Hasaki\n",
      "http://api.openweathermap.org/data/2.5/weather?units=Imperial&APPID=213d535e09919766a866e1c56931a9c1&q=hasaki\n",
      "Processing Record 173| Rocha\n",
      "http://api.openweathermap.org/data/2.5/weather?units=Imperial&APPID=213d535e09919766a866e1c56931a9c1&q=rocha\n",
      "Processing Record 174| Katsuura\n",
      "http://api.openweathermap.org/data/2.5/weather?units=Imperial&APPID=213d535e09919766a866e1c56931a9c1&q=katsuura\n",
      "Processing Record 175| Warrnambool\n",
      "http://api.openweathermap.org/data/2.5/weather?units=Imperial&APPID=213d535e09919766a866e1c56931a9c1&q=warrnambool\n",
      "Processing Record 176| Opuwo\n",
      "http://api.openweathermap.org/data/2.5/weather?units=Imperial&APPID=213d535e09919766a866e1c56931a9c1&q=opuwo\n",
      "Processing Record 177| Nouadhibou\n",
      "http://api.openweathermap.org/data/2.5/weather?units=Imperial&APPID=213d535e09919766a866e1c56931a9c1&q=nouadhibou\n",
      "Processing Record 178| Puerto El Triunfo\n",
      "http://api.openweathermap.org/data/2.5/weather?units=Imperial&APPID=213d535e09919766a866e1c56931a9c1&q=puerto el triunfo\n",
      "Processing Record 179| Matamoros\n",
      "http://api.openweathermap.org/data/2.5/weather?units=Imperial&APPID=213d535e09919766a866e1c56931a9c1&q=matamoros\n",
      "Processing Record 180| Lorengau\n",
      "http://api.openweathermap.org/data/2.5/weather?units=Imperial&APPID=213d535e09919766a866e1c56931a9c1&q=lorengau\n",
      "Processing Record 181| Qaqortoq\n",
      "http://api.openweathermap.org/data/2.5/weather?units=Imperial&APPID=213d535e09919766a866e1c56931a9c1&q=qaqortoq\n",
      "Processing Record 182| Comodoro Rivadavia\n",
      "http://api.openweathermap.org/data/2.5/weather?units=Imperial&APPID=213d535e09919766a866e1c56931a9c1&q=comodoro rivadavia\n",
      "Processing Record 183| Tsogni\n",
      "http://api.openweathermap.org/data/2.5/weather?units=Imperial&APPID=213d535e09919766a866e1c56931a9c1&q=tsogni\n",
      "Processing Record 184| Road Town\n",
      "http://api.openweathermap.org/data/2.5/weather?units=Imperial&APPID=213d535e09919766a866e1c56931a9c1&q=road town\n",
      "Processing Record 185| Luganville\n",
      "http://api.openweathermap.org/data/2.5/weather?units=Imperial&APPID=213d535e09919766a866e1c56931a9c1&q=luganville\n",
      "Processing Record 186| Tottori-shi\n",
      "http://api.openweathermap.org/data/2.5/weather?units=Imperial&APPID=213d535e09919766a866e1c56931a9c1&q=tottori\n",
      "Processing Record 187| Oranjemund\n",
      "http://api.openweathermap.org/data/2.5/weather?units=Imperial&APPID=213d535e09919766a866e1c56931a9c1&q=oranjemund\n",
      "Processing Record 188| Kandi\n",
      "http://api.openweathermap.org/data/2.5/weather?units=Imperial&APPID=213d535e09919766a866e1c56931a9c1&q=kandi\n",
      "Processing Record 189| Salalah\n",
      "http://api.openweathermap.org/data/2.5/weather?units=Imperial&APPID=213d535e09919766a866e1c56931a9c1&q=salalah\n",
      "Processing Record 190| Talnakh\n",
      "http://api.openweathermap.org/data/2.5/weather?units=Imperial&APPID=213d535e09919766a866e1c56931a9c1&q=talnakh\n",
      "Processing Record 191| Gdynia\n",
      "http://api.openweathermap.org/data/2.5/weather?units=Imperial&APPID=213d535e09919766a866e1c56931a9c1&q=gdynia\n",
      "Processing Record 192| Saint-Augustin\n",
      "http://api.openweathermap.org/data/2.5/weather?units=Imperial&APPID=213d535e09919766a866e1c56931a9c1&q=saint-augustin\n",
      "Processing Record 193| Jumla\n",
      "http://api.openweathermap.org/data/2.5/weather?units=Imperial&APPID=213d535e09919766a866e1c56931a9c1&q=jumla\n",
      "Processing Record 194| Constitución\n",
      "http://api.openweathermap.org/data/2.5/weather?units=Imperial&APPID=213d535e09919766a866e1c56931a9c1&q=constitucion\n",
      "Processing Record 195| Sadon\n",
      "http://api.openweathermap.org/data/2.5/weather?units=Imperial&APPID=213d535e09919766a866e1c56931a9c1&q=sadon\n",
      "Processing Record 196| Cocachacra\n",
      "http://api.openweathermap.org/data/2.5/weather?units=Imperial&APPID=213d535e09919766a866e1c56931a9c1&q=cocachacra\n",
      "Processing Record 197| Upernavik\n",
      "http://api.openweathermap.org/data/2.5/weather?units=Imperial&APPID=213d535e09919766a866e1c56931a9c1&q=upernavik\n",
      "Processing Record 198| Albany\n",
      "http://api.openweathermap.org/data/2.5/weather?units=Imperial&APPID=213d535e09919766a866e1c56931a9c1&q=albany\n",
      "Processing Record 199| Meghri\n",
      "http://api.openweathermap.org/data/2.5/weather?units=Imperial&APPID=213d535e09919766a866e1c56931a9c1&q=meghri\n",
      "Processing Record 200| Longyearbyen\n",
      "http://api.openweathermap.org/data/2.5/weather?units=Imperial&APPID=213d535e09919766a866e1c56931a9c1&q=longyearbyen\n",
      "Processing Record 201| Patan\n",
      "http://api.openweathermap.org/data/2.5/weather?units=Imperial&APPID=213d535e09919766a866e1c56931a9c1&q=patan\n",
      "City not found. Skipping to next city...\n",
      "Processing Record 202| Atambua\n",
      "http://api.openweathermap.org/data/2.5/weather?units=Imperial&APPID=213d535e09919766a866e1c56931a9c1&q=atambua\n",
      "Processing Record 203| Beidao\n",
      "http://api.openweathermap.org/data/2.5/weather?units=Imperial&APPID=213d535e09919766a866e1c56931a9c1&q=beidao\n",
      "City not found. Skipping to next city...\n",
      "Processing Record 204| Bam\n",
      "http://api.openweathermap.org/data/2.5/weather?units=Imperial&APPID=213d535e09919766a866e1c56931a9c1&q=bam\n",
      "Processing Record 205| Tiksi\n",
      "http://api.openweathermap.org/data/2.5/weather?units=Imperial&APPID=213d535e09919766a866e1c56931a9c1&q=tiksi\n",
      "Processing Record 206| Pocatello\n",
      "http://api.openweathermap.org/data/2.5/weather?units=Imperial&APPID=213d535e09919766a866e1c56931a9c1&q=pocatello\n",
      "City not found. Skipping to next city...\n",
      "Processing Record 207| Batagay-Alyta\n",
      "http://api.openweathermap.org/data/2.5/weather?units=Imperial&APPID=213d535e09919766a866e1c56931a9c1&q=batagay-alyta\n",
      "City not found. Skipping to next city...\n",
      "City not found. Skipping to next city...\n",
      "Processing Record 208| Kiryat Gat\n",
      "http://api.openweathermap.org/data/2.5/weather?units=Imperial&APPID=213d535e09919766a866e1c56931a9c1&q=gat\n",
      "Processing Record 209| Semīrom\n",
      "http://api.openweathermap.org/data/2.5/weather?units=Imperial&APPID=213d535e09919766a866e1c56931a9c1&q=semirom\n",
      "Processing Record 210| Sørland\n",
      "http://api.openweathermap.org/data/2.5/weather?units=Imperial&APPID=213d535e09919766a866e1c56931a9c1&q=sorland\n",
      "Processing Record 211| Airai\n",
      "http://api.openweathermap.org/data/2.5/weather?units=Imperial&APPID=213d535e09919766a866e1c56931a9c1&q=airai\n",
      "Processing Record 212| Bogandinskiy\n",
      "http://api.openweathermap.org/data/2.5/weather?units=Imperial&APPID=213d535e09919766a866e1c56931a9c1&q=bogandinskiy\n",
      "Processing Record 213| Vila Franca do Campo\n",
      "http://api.openweathermap.org/data/2.5/weather?units=Imperial&APPID=213d535e09919766a866e1c56931a9c1&q=vila franca do campo\n",
      "Processing Record 214| São João da Barra\n",
      "http://api.openweathermap.org/data/2.5/weather?units=Imperial&APPID=213d535e09919766a866e1c56931a9c1&q=sao joao da barra\n",
      "Processing Record 215| Santa Maria\n",
      "http://api.openweathermap.org/data/2.5/weather?units=Imperial&APPID=213d535e09919766a866e1c56931a9c1&q=santa maria\n",
      "Processing Record 216| Laas\n",
      "http://api.openweathermap.org/data/2.5/weather?units=Imperial&APPID=213d535e09919766a866e1c56931a9c1&q=lasa\n",
      "Processing Record 217| Kumul\n",
      "http://api.openweathermap.org/data/2.5/weather?units=Imperial&APPID=213d535e09919766a866e1c56931a9c1&q=hami\n",
      "Processing Record 218| Hithadhoo\n",
      "http://api.openweathermap.org/data/2.5/weather?units=Imperial&APPID=213d535e09919766a866e1c56931a9c1&q=hithadhoo\n",
      "Processing Record 219| Arraial do Cabo\n",
      "http://api.openweathermap.org/data/2.5/weather?units=Imperial&APPID=213d535e09919766a866e1c56931a9c1&q=arraial do cabo\n",
      "Processing Record 220| Pacific Grove\n",
      "http://api.openweathermap.org/data/2.5/weather?units=Imperial&APPID=213d535e09919766a866e1c56931a9c1&q=pacific grove\n",
      "Processing Record 221| Faanui\n",
      "http://api.openweathermap.org/data/2.5/weather?units=Imperial&APPID=213d535e09919766a866e1c56931a9c1&q=faanui\n",
      "Processing Record 222| Sisimiut\n",
      "http://api.openweathermap.org/data/2.5/weather?units=Imperial&APPID=213d535e09919766a866e1c56931a9c1&q=sisimiut\n",
      "Processing Record 223| Bilibino\n",
      "http://api.openweathermap.org/data/2.5/weather?units=Imperial&APPID=213d535e09919766a866e1c56931a9c1&q=bilibino\n",
      "Processing Record 224| Hastings\n",
      "http://api.openweathermap.org/data/2.5/weather?units=Imperial&APPID=213d535e09919766a866e1c56931a9c1&q=hastings\n"
     ]
    },
    {
     "name": "stdout",
     "output_type": "stream",
     "text": [
      "Processing Record 225| Khomutovo\n",
      "http://api.openweathermap.org/data/2.5/weather?units=Imperial&APPID=213d535e09919766a866e1c56931a9c1&q=khomutovo\n",
      "Processing Record 226| Kysyl-Syr\n",
      "http://api.openweathermap.org/data/2.5/weather?units=Imperial&APPID=213d535e09919766a866e1c56931a9c1&q=kysyl-syr\n",
      "Processing Record 227| Naze\n",
      "http://api.openweathermap.org/data/2.5/weather?units=Imperial&APPID=213d535e09919766a866e1c56931a9c1&q=naze\n",
      "Processing Record 228| Coyhaique\n",
      "http://api.openweathermap.org/data/2.5/weather?units=Imperial&APPID=213d535e09919766a866e1c56931a9c1&q=coihaique\n",
      "Processing Record 229| Shetpe\n",
      "http://api.openweathermap.org/data/2.5/weather?units=Imperial&APPID=213d535e09919766a866e1c56931a9c1&q=shetpe\n",
      "Processing Record 230| Quatre Cocos\n",
      "http://api.openweathermap.org/data/2.5/weather?units=Imperial&APPID=213d535e09919766a866e1c56931a9c1&q=quatre cocos\n",
      "Processing Record 231| Pisco\n",
      "http://api.openweathermap.org/data/2.5/weather?units=Imperial&APPID=213d535e09919766a866e1c56931a9c1&q=pisco\n",
      "Processing Record 232| South Yuba City\n",
      "http://api.openweathermap.org/data/2.5/weather?units=Imperial&APPID=213d535e09919766a866e1c56931a9c1&q=south yuba city\n",
      "Processing Record 233| Mubi\n",
      "http://api.openweathermap.org/data/2.5/weather?units=Imperial&APPID=213d535e09919766a866e1c56931a9c1&q=mubi\n",
      "Processing Record 234| Inuvik\n",
      "http://api.openweathermap.org/data/2.5/weather?units=Imperial&APPID=213d535e09919766a866e1c56931a9c1&q=inuvik\n",
      "City not found. Skipping to next city...\n",
      "Processing Record 235| Yumen\n",
      "http://api.openweathermap.org/data/2.5/weather?units=Imperial&APPID=213d535e09919766a866e1c56931a9c1&q=yumen\n",
      "City not found. Skipping to next city...\n",
      "Processing Record 236| Grand Gaube\n",
      "http://api.openweathermap.org/data/2.5/weather?units=Imperial&APPID=213d535e09919766a866e1c56931a9c1&q=grand gaube\n",
      "Processing Record 237| Honiara\n",
      "http://api.openweathermap.org/data/2.5/weather?units=Imperial&APPID=213d535e09919766a866e1c56931a9c1&q=honiara\n",
      "Processing Record 238| Amazar\n",
      "http://api.openweathermap.org/data/2.5/weather?units=Imperial&APPID=213d535e09919766a866e1c56931a9c1&q=amazar\n",
      "Processing Record 239| Carutapera\n",
      "http://api.openweathermap.org/data/2.5/weather?units=Imperial&APPID=213d535e09919766a866e1c56931a9c1&q=carutapera\n",
      "Processing Record 240| Arawa\n",
      "http://api.openweathermap.org/data/2.5/weather?units=Imperial&APPID=213d535e09919766a866e1c56931a9c1&q=arawa\n",
      "Processing Record 241| Rawson\n",
      "http://api.openweathermap.org/data/2.5/weather?units=Imperial&APPID=213d535e09919766a866e1c56931a9c1&q=rawson\n",
      "Processing Record 242| Kjøllefjord\n",
      "http://api.openweathermap.org/data/2.5/weather?units=Imperial&APPID=213d535e09919766a866e1c56931a9c1&q=kjollefjord\n",
      "Processing Record 243| Ahar\n",
      "http://api.openweathermap.org/data/2.5/weather?units=Imperial&APPID=213d535e09919766a866e1c56931a9c1&q=ahar\n",
      "Processing Record 244| Buarcos\n",
      "http://api.openweathermap.org/data/2.5/weather?units=Imperial&APPID=213d535e09919766a866e1c56931a9c1&q=buarcos\n",
      "Processing Record 245| Xam Nua\n",
      "http://api.openweathermap.org/data/2.5/weather?units=Imperial&APPID=213d535e09919766a866e1c56931a9c1&q=xam nua\n",
      "Processing Record 246| Huarmey\n",
      "http://api.openweathermap.org/data/2.5/weather?units=Imperial&APPID=213d535e09919766a866e1c56931a9c1&q=huarmey\n",
      "Processing Record 247| Quelimane\n",
      "http://api.openweathermap.org/data/2.5/weather?units=Imperial&APPID=213d535e09919766a866e1c56931a9c1&q=quelimane\n",
      "Processing Record 248| Bandeirantes\n",
      "http://api.openweathermap.org/data/2.5/weather?units=Imperial&APPID=213d535e09919766a866e1c56931a9c1&q=bandeirantes\n",
      "Processing Record 249| Tual\n",
      "http://api.openweathermap.org/data/2.5/weather?units=Imperial&APPID=213d535e09919766a866e1c56931a9c1&q=tual\n",
      "Processing Record 250| Banfora\n",
      "http://api.openweathermap.org/data/2.5/weather?units=Imperial&APPID=213d535e09919766a866e1c56931a9c1&q=banfora\n",
      "Processing Record 251| Luau\n",
      "http://api.openweathermap.org/data/2.5/weather?units=Imperial&APPID=213d535e09919766a866e1c56931a9c1&q=luau\n",
      "Processing Record 252| Kodinsk\n",
      "http://api.openweathermap.org/data/2.5/weather?units=Imperial&APPID=213d535e09919766a866e1c56931a9c1&q=kodinsk\n",
      "City not found. Skipping to next city...\n",
      "Processing Record 253| Kavieng\n",
      "http://api.openweathermap.org/data/2.5/weather?units=Imperial&APPID=213d535e09919766a866e1c56931a9c1&q=kavieng\n",
      "Processing Record 254| Cañete\n",
      "http://api.openweathermap.org/data/2.5/weather?units=Imperial&APPID=213d535e09919766a866e1c56931a9c1&q=canete\n",
      "Processing Record 255| Makakilo City\n",
      "http://api.openweathermap.org/data/2.5/weather?units=Imperial&APPID=213d535e09919766a866e1c56931a9c1&q=makakilo city\n",
      "Processing Record 256| Nouakchott\n",
      "http://api.openweathermap.org/data/2.5/weather?units=Imperial&APPID=213d535e09919766a866e1c56931a9c1&q=nouakchott\n",
      "Processing Record 257| Ubari\n",
      "http://api.openweathermap.org/data/2.5/weather?units=Imperial&APPID=213d535e09919766a866e1c56931a9c1&q=awbari\n",
      "Processing Record 258| Dicabisagan\n",
      "http://api.openweathermap.org/data/2.5/weather?units=Imperial&APPID=213d535e09919766a866e1c56931a9c1&q=dicabisagan\n",
      "Processing Record 259| Louiseville\n",
      "http://api.openweathermap.org/data/2.5/weather?units=Imperial&APPID=213d535e09919766a866e1c56931a9c1&q=louiseville\n",
      "City not found. Skipping to next city...\n",
      "Processing Record 260| Soloneshnoye\n",
      "http://api.openweathermap.org/data/2.5/weather?units=Imperial&APPID=213d535e09919766a866e1c56931a9c1&q=soloneshnoye\n",
      "Processing Record 261| Zhigansk\n",
      "http://api.openweathermap.org/data/2.5/weather?units=Imperial&APPID=213d535e09919766a866e1c56931a9c1&q=zhigansk\n",
      "Processing Record 262| Dali\n",
      "http://api.openweathermap.org/data/2.5/weather?units=Imperial&APPID=213d535e09919766a866e1c56931a9c1&q=dali\n",
      "Processing Record 263| Gigmoto\n",
      "http://api.openweathermap.org/data/2.5/weather?units=Imperial&APPID=213d535e09919766a866e1c56931a9c1&q=gigmoto\n",
      "Processing Record 264| Leningradskiy\n",
      "http://api.openweathermap.org/data/2.5/weather?units=Imperial&APPID=213d535e09919766a866e1c56931a9c1&q=leningradskiy\n",
      "Processing Record 265| Waiuku\n",
      "http://api.openweathermap.org/data/2.5/weather?units=Imperial&APPID=213d535e09919766a866e1c56931a9c1&q=waiuku\n",
      "Processing Record 266| Yarmouth\n",
      "http://api.openweathermap.org/data/2.5/weather?units=Imperial&APPID=213d535e09919766a866e1c56931a9c1&q=yarmouth\n",
      "Processing Record 267| Cabo San Lucas\n",
      "http://api.openweathermap.org/data/2.5/weather?units=Imperial&APPID=213d535e09919766a866e1c56931a9c1&q=cabo san lucas\n",
      "Processing Record 268| Wieluń\n",
      "http://api.openweathermap.org/data/2.5/weather?units=Imperial&APPID=213d535e09919766a866e1c56931a9c1&q=wielun\n",
      "Processing Record 269| Port Macquarie\n",
      "http://api.openweathermap.org/data/2.5/weather?units=Imperial&APPID=213d535e09919766a866e1c56931a9c1&q=port macquarie\n",
      "Processing Record 270| Kirakira\n",
      "http://api.openweathermap.org/data/2.5/weather?units=Imperial&APPID=213d535e09919766a866e1c56931a9c1&q=kirakira\n",
      "Processing Record 271| Mocuba\n",
      "http://api.openweathermap.org/data/2.5/weather?units=Imperial&APPID=213d535e09919766a866e1c56931a9c1&q=mocuba\n",
      "Processing Record 272| Clyde\n",
      "http://api.openweathermap.org/data/2.5/weather?units=Imperial&APPID=213d535e09919766a866e1c56931a9c1&q=clyde\n",
      "Processing Record 273| Gbarnga\n",
      "http://api.openweathermap.org/data/2.5/weather?units=Imperial&APPID=213d535e09919766a866e1c56931a9c1&q=gbarnga\n",
      "City not found. Skipping to next city...\n",
      "Processing Record 274| Mareeba\n",
      "http://api.openweathermap.org/data/2.5/weather?units=Imperial&APPID=213d535e09919766a866e1c56931a9c1&q=mareeba\n",
      "Processing Record 275| Hualmay\n",
      "http://api.openweathermap.org/data/2.5/weather?units=Imperial&APPID=213d535e09919766a866e1c56931a9c1&q=hualmay\n",
      "Processing Record 276| Fray Bentos\n",
      "http://api.openweathermap.org/data/2.5/weather?units=Imperial&APPID=213d535e09919766a866e1c56931a9c1&q=fray bentos\n",
      "Processing Record 277| Port Blair\n",
      "http://api.openweathermap.org/data/2.5/weather?units=Imperial&APPID=213d535e09919766a866e1c56931a9c1&q=port blair\n",
      "Processing Record 278| Panjāb\n",
      "http://api.openweathermap.org/data/2.5/weather?units=Imperial&APPID=213d535e09919766a866e1c56931a9c1&q=panjab\n",
      "Processing Record 279| Saint-François\n",
      "http://api.openweathermap.org/data/2.5/weather?units=Imperial&APPID=213d535e09919766a866e1c56931a9c1&q=saint-francois\n",
      "Processing Record 280| Grenå\n",
      "http://api.openweathermap.org/data/2.5/weather?units=Imperial&APPID=213d535e09919766a866e1c56931a9c1&q=grenaa\n"
     ]
    },
    {
     "name": "stdout",
     "output_type": "stream",
     "text": [
      "Processing Record 281| Grindavik\n",
      "http://api.openweathermap.org/data/2.5/weather?units=Imperial&APPID=213d535e09919766a866e1c56931a9c1&q=grindavik\n",
      "Processing Record 282| Kamenka\n",
      "http://api.openweathermap.org/data/2.5/weather?units=Imperial&APPID=213d535e09919766a866e1c56931a9c1&q=kamenka\n",
      "Processing Record 283| Abbeville\n",
      "http://api.openweathermap.org/data/2.5/weather?units=Imperial&APPID=213d535e09919766a866e1c56931a9c1&q=abbeville\n",
      "Processing Record 284| Touros\n",
      "http://api.openweathermap.org/data/2.5/weather?units=Imperial&APPID=213d535e09919766a866e1c56931a9c1&q=touros\n",
      "Processing Record 285| Socorro\n",
      "http://api.openweathermap.org/data/2.5/weather?units=Imperial&APPID=213d535e09919766a866e1c56931a9c1&q=socorro\n",
      "Processing Record 286| Vitim\n",
      "http://api.openweathermap.org/data/2.5/weather?units=Imperial&APPID=213d535e09919766a866e1c56931a9c1&q=vitim\n",
      "Processing Record 287| Gisborne\n",
      "http://api.openweathermap.org/data/2.5/weather?units=Imperial&APPID=213d535e09919766a866e1c56931a9c1&q=gisborne\n",
      "Processing Record 288| Hamilton\n",
      "http://api.openweathermap.org/data/2.5/weather?units=Imperial&APPID=213d535e09919766a866e1c56931a9c1&q=hamilton\n",
      "Processing Record 289| Ilulissat\n",
      "http://api.openweathermap.org/data/2.5/weather?units=Imperial&APPID=213d535e09919766a866e1c56931a9c1&q=ilulissat\n",
      "Processing Record 290| Bāglung\n",
      "http://api.openweathermap.org/data/2.5/weather?units=Imperial&APPID=213d535e09919766a866e1c56931a9c1&q=baglung\n",
      "Processing Record 291| Ahipara\n",
      "http://api.openweathermap.org/data/2.5/weather?units=Imperial&APPID=213d535e09919766a866e1c56931a9c1&q=ahipara\n",
      "Processing Record 292| Pokhara\n",
      "http://api.openweathermap.org/data/2.5/weather?units=Imperial&APPID=213d535e09919766a866e1c56931a9c1&q=pokhara\n",
      "Processing Record 293| Terrace\n",
      "http://api.openweathermap.org/data/2.5/weather?units=Imperial&APPID=213d535e09919766a866e1c56931a9c1&q=terrace\n",
      "Processing Record 294| Norman Wells\n",
      "http://api.openweathermap.org/data/2.5/weather?units=Imperial&APPID=213d535e09919766a866e1c56931a9c1&q=norman wells\n",
      "Processing Record 295| Lagoa\n",
      "http://api.openweathermap.org/data/2.5/weather?units=Imperial&APPID=213d535e09919766a866e1c56931a9c1&q=lagoa\n",
      "Processing Record 296| Thinadhoo\n",
      "http://api.openweathermap.org/data/2.5/weather?units=Imperial&APPID=213d535e09919766a866e1c56931a9c1&q=thinadhoo\n",
      "Processing Record 297| Baruun-Urt\n",
      "http://api.openweathermap.org/data/2.5/weather?units=Imperial&APPID=213d535e09919766a866e1c56931a9c1&q=baruun-urt\n",
      "Processing Record 298| Presidencia Roque Sáenz Peña\n",
      "http://api.openweathermap.org/data/2.5/weather?units=Imperial&APPID=213d535e09919766a866e1c56931a9c1&q=presidencia roque saenz pena\n",
      "Processing Record 299| Tautira\n",
      "http://api.openweathermap.org/data/2.5/weather?units=Imperial&APPID=213d535e09919766a866e1c56931a9c1&q=tautira\n",
      "Processing Record 300| Mushābani\n",
      "http://api.openweathermap.org/data/2.5/weather?units=Imperial&APPID=213d535e09919766a866e1c56931a9c1&q=mushabani\n",
      "Processing Record 301| Izumo\n",
      "http://api.openweathermap.org/data/2.5/weather?units=Imperial&APPID=213d535e09919766a866e1c56931a9c1&q=izumo\n",
      "City not found. Skipping to next city...\n",
      "Processing Record 302| Nikolayevskaya\n",
      "http://api.openweathermap.org/data/2.5/weather?units=Imperial&APPID=213d535e09919766a866e1c56931a9c1&q=nikolayevskaya\n",
      "Processing Record 303| Palenque/Temp\n",
      "http://api.openweathermap.org/data/2.5/weather?units=Imperial&APPID=213d535e09919766a866e1c56931a9c1&q=palenque\n",
      "Processing Record 304| São Gonçalo do Amarante\n",
      "http://api.openweathermap.org/data/2.5/weather?units=Imperial&APPID=213d535e09919766a866e1c56931a9c1&q=sao goncalo do amarante\n",
      "Processing Record 305| Luanda\n",
      "http://api.openweathermap.org/data/2.5/weather?units=Imperial&APPID=213d535e09919766a866e1c56931a9c1&q=luanda\n",
      "Processing Record 306| Solnechnyy\n",
      "http://api.openweathermap.org/data/2.5/weather?units=Imperial&APPID=213d535e09919766a866e1c56931a9c1&q=solnechnyy\n",
      "Processing Record 307| Narok\n",
      "http://api.openweathermap.org/data/2.5/weather?units=Imperial&APPID=213d535e09919766a866e1c56931a9c1&q=narok\n",
      "Processing Record 308| Mildura\n",
      "http://api.openweathermap.org/data/2.5/weather?units=Imperial&APPID=213d535e09919766a866e1c56931a9c1&q=mildura\n",
      "Processing Record 309| The Pas\n",
      "http://api.openweathermap.org/data/2.5/weather?units=Imperial&APPID=213d535e09919766a866e1c56931a9c1&q=the pas\n",
      "Processing Record 310| Souillac\n",
      "http://api.openweathermap.org/data/2.5/weather?units=Imperial&APPID=213d535e09919766a866e1c56931a9c1&q=souillac\n",
      "Processing Record 311| Corinth\n",
      "http://api.openweathermap.org/data/2.5/weather?units=Imperial&APPID=213d535e09919766a866e1c56931a9c1&q=corinto\n",
      "Processing Record 312| Province of Mantua\n",
      "http://api.openweathermap.org/data/2.5/weather?units=Imperial&APPID=213d535e09919766a866e1c56931a9c1&q=mantua\n",
      "Processing Record 313| Cherskiy\n",
      "http://api.openweathermap.org/data/2.5/weather?units=Imperial&APPID=213d535e09919766a866e1c56931a9c1&q=cherskiy\n",
      "Processing Record 314| Kastamonu Province\n",
      "http://api.openweathermap.org/data/2.5/weather?units=Imperial&APPID=213d535e09919766a866e1c56931a9c1&q=kastamonu\n",
      "Processing Record 315| Riyadh\n",
      "http://api.openweathermap.org/data/2.5/weather?units=Imperial&APPID=213d535e09919766a866e1c56931a9c1&q=riyadh\n",
      "Processing Record 316| Lata\n",
      "http://api.openweathermap.org/data/2.5/weather?units=Imperial&APPID=213d535e09919766a866e1c56931a9c1&q=lata\n",
      "Processing Record 317| Port-Gentil\n",
      "http://api.openweathermap.org/data/2.5/weather?units=Imperial&APPID=213d535e09919766a866e1c56931a9c1&q=port-gentil\n",
      "Processing Record 318| Khanbari\n",
      "http://api.openweathermap.org/data/2.5/weather?units=Imperial&APPID=213d535e09919766a866e1c56931a9c1&q=khandbari\n",
      "Processing Record 319| Marsá Maţrūḩ\n",
      "http://api.openweathermap.org/data/2.5/weather?units=Imperial&APPID=213d535e09919766a866e1c56931a9c1&q=marsa matruh\n",
      "Processing Record 320| Lüderitz\n",
      "http://api.openweathermap.org/data/2.5/weather?units=Imperial&APPID=213d535e09919766a866e1c56931a9c1&q=luderitz\n",
      "Processing Record 321| Yining\n",
      "http://api.openweathermap.org/data/2.5/weather?units=Imperial&APPID=213d535e09919766a866e1c56931a9c1&q=yining\n",
      "Processing Record 322| Tianpeng\n",
      "http://api.openweathermap.org/data/2.5/weather?units=Imperial&APPID=213d535e09919766a866e1c56931a9c1&q=tianpeng\n",
      "Processing Record 323| Bahía Solano\n",
      "http://api.openweathermap.org/data/2.5/weather?units=Imperial&APPID=213d535e09919766a866e1c56931a9c1&q=mutis\n",
      "Processing Record 324| Beloha\n",
      "http://api.openweathermap.org/data/2.5/weather?units=Imperial&APPID=213d535e09919766a866e1c56931a9c1&q=beloha\n",
      "Processing Record 325| Prieska\n",
      "http://api.openweathermap.org/data/2.5/weather?units=Imperial&APPID=213d535e09919766a866e1c56931a9c1&q=prieska\n",
      "Processing Record 326| Bengkulu\n",
      "http://api.openweathermap.org/data/2.5/weather?units=Imperial&APPID=213d535e09919766a866e1c56931a9c1&q=bengkulu\n",
      "Processing Record 327| Ulladulla\n",
      "http://api.openweathermap.org/data/2.5/weather?units=Imperial&APPID=213d535e09919766a866e1c56931a9c1&q=ulladulla\n",
      "Processing Record 328| Kieta\n",
      "http://api.openweathermap.org/data/2.5/weather?units=Imperial&APPID=213d535e09919766a866e1c56931a9c1&q=kieta\n",
      "Processing Record 329| Valparaíso\n",
      "http://api.openweathermap.org/data/2.5/weather?units=Imperial&APPID=213d535e09919766a866e1c56931a9c1&q=valparaiso\n",
      "Processing Record 330| Yenagoa\n",
      "http://api.openweathermap.org/data/2.5/weather?units=Imperial&APPID=213d535e09919766a866e1c56931a9c1&q=yenagoa\n",
      "Processing Record 331| Phan Thiet\n",
      "http://api.openweathermap.org/data/2.5/weather?units=Imperial&APPID=213d535e09919766a866e1c56931a9c1&q=phan thiet\n",
      "Processing Record 332| Mitsamiouli\n",
      "http://api.openweathermap.org/data/2.5/weather?units=Imperial&APPID=213d535e09919766a866e1c56931a9c1&q=mitsamiouli\n",
      "Processing Record 333| Mahajanga\n",
      "http://api.openweathermap.org/data/2.5/weather?units=Imperial&APPID=213d535e09919766a866e1c56931a9c1&q=mahajanga\n",
      "Processing Record 334| Anagé\n",
      "http://api.openweathermap.org/data/2.5/weather?units=Imperial&APPID=213d535e09919766a866e1c56931a9c1&q=anage\n",
      "Processing Record 335| Balakliya\n",
      "http://api.openweathermap.org/data/2.5/weather?units=Imperial&APPID=213d535e09919766a866e1c56931a9c1&q=balakliya\n",
      "Processing Record 336| Severo-Kuril'sk\n",
      "http://api.openweathermap.org/data/2.5/weather?units=Imperial&APPID=213d535e09919766a866e1c56931a9c1&q=severo-kurilsk\n"
     ]
    },
    {
     "name": "stdout",
     "output_type": "stream",
     "text": [
      "City not found. Skipping to next city...\n",
      "Processing Record 337| Baringo\n",
      "http://api.openweathermap.org/data/2.5/weather?units=Imperial&APPID=213d535e09919766a866e1c56931a9c1&q=baringo\n",
      "Processing Record 338| Shelburne\n",
      "http://api.openweathermap.org/data/2.5/weather?units=Imperial&APPID=213d535e09919766a866e1c56931a9c1&q=shelburne\n",
      "Processing Record 339| Nemuro\n",
      "http://api.openweathermap.org/data/2.5/weather?units=Imperial&APPID=213d535e09919766a866e1c56931a9c1&q=nemuro\n",
      "Processing Record 340| Eyl\n",
      "http://api.openweathermap.org/data/2.5/weather?units=Imperial&APPID=213d535e09919766a866e1c56931a9c1&q=eyl\n",
      "Processing Record 341| Rome\n",
      "http://api.openweathermap.org/data/2.5/weather?units=Imperial&APPID=213d535e09919766a866e1c56931a9c1&q=roma\n",
      "Processing Record 342| Andenes\n",
      "http://api.openweathermap.org/data/2.5/weather?units=Imperial&APPID=213d535e09919766a866e1c56931a9c1&q=andenes\n",
      "Processing Record 343| Kaitangata\n",
      "http://api.openweathermap.org/data/2.5/weather?units=Imperial&APPID=213d535e09919766a866e1c56931a9c1&q=kaitangata\n",
      "Processing Record 344| Chapais\n",
      "http://api.openweathermap.org/data/2.5/weather?units=Imperial&APPID=213d535e09919766a866e1c56931a9c1&q=chapais\n",
      "Processing Record 345| Soria\n",
      "http://api.openweathermap.org/data/2.5/weather?units=Imperial&APPID=213d535e09919766a866e1c56931a9c1&q=soria\n",
      "Processing Record 346| São Gabriel da Cachoeira\n",
      "http://api.openweathermap.org/data/2.5/weather?units=Imperial&APPID=213d535e09919766a866e1c56931a9c1&q=sao gabriel da cachoeira\n",
      "Processing Record 347| Beringovskiy\n",
      "http://api.openweathermap.org/data/2.5/weather?units=Imperial&APPID=213d535e09919766a866e1c56931a9c1&q=beringovskiy\n",
      "Processing Record 348| Srednekolymsk\n",
      "http://api.openweathermap.org/data/2.5/weather?units=Imperial&APPID=213d535e09919766a866e1c56931a9c1&q=srednekolymsk\n",
      "Processing Record 349| Gizo Government Station\n",
      "http://api.openweathermap.org/data/2.5/weather?units=Imperial&APPID=213d535e09919766a866e1c56931a9c1&q=gizo\n",
      "Processing Record 350| Amudat\n",
      "http://api.openweathermap.org/data/2.5/weather?units=Imperial&APPID=213d535e09919766a866e1c56931a9c1&q=amudat\n",
      "Processing Record 351| Beyneu\n",
      "http://api.openweathermap.org/data/2.5/weather?units=Imperial&APPID=213d535e09919766a866e1c56931a9c1&q=beyneu\n",
      "Processing Record 352| Chāībāsa\n",
      "http://api.openweathermap.org/data/2.5/weather?units=Imperial&APPID=213d535e09919766a866e1c56931a9c1&q=chaibasa\n",
      "City not found. Skipping to next city...\n",
      "Processing Record 353| Nakamura\n",
      "http://api.openweathermap.org/data/2.5/weather?units=Imperial&APPID=213d535e09919766a866e1c56931a9c1&q=nakamura\n",
      "Processing Record 354| Flin Flon\n",
      "http://api.openweathermap.org/data/2.5/weather?units=Imperial&APPID=213d535e09919766a866e1c56931a9c1&q=flin flon\n",
      "Processing Record 355| Novy Urengoy\n",
      "http://api.openweathermap.org/data/2.5/weather?units=Imperial&APPID=213d535e09919766a866e1c56931a9c1&q=novyy urengoy\n",
      "Processing Record 356| Chālūs\n",
      "http://api.openweathermap.org/data/2.5/weather?units=Imperial&APPID=213d535e09919766a866e1c56931a9c1&q=chalus\n",
      "Processing Record 357| Koslan\n",
      "http://api.openweathermap.org/data/2.5/weather?units=Imperial&APPID=213d535e09919766a866e1c56931a9c1&q=koslan\n",
      "Processing Record 358| Noumea\n",
      "http://api.openweathermap.org/data/2.5/weather?units=Imperial&APPID=213d535e09919766a866e1c56931a9c1&q=noumea\n",
      "Processing Record 359| Farafangana\n",
      "http://api.openweathermap.org/data/2.5/weather?units=Imperial&APPID=213d535e09919766a866e1c56931a9c1&q=farafangana\n",
      "Processing Record 360| Kimbe\n",
      "http://api.openweathermap.org/data/2.5/weather?units=Imperial&APPID=213d535e09919766a866e1c56931a9c1&q=kimbe\n",
      "Processing Record 361| Arrondissement de Saint-Denis\n",
      "http://api.openweathermap.org/data/2.5/weather?units=Imperial&APPID=213d535e09919766a866e1c56931a9c1&q=saint-denis\n",
      "Processing Record 362| Stornoway\n",
      "http://api.openweathermap.org/data/2.5/weather?units=Imperial&APPID=213d535e09919766a866e1c56931a9c1&q=stornoway\n",
      "Processing Record 363| Coahuayana Viejo\n",
      "http://api.openweathermap.org/data/2.5/weather?units=Imperial&APPID=213d535e09919766a866e1c56931a9c1&q=coahuayana\n",
      "Processing Record 364| Dunedin\n",
      "http://api.openweathermap.org/data/2.5/weather?units=Imperial&APPID=213d535e09919766a866e1c56931a9c1&q=dunedin\n",
      "Processing Record 365| Heishan\n",
      "http://api.openweathermap.org/data/2.5/weather?units=Imperial&APPID=213d535e09919766a866e1c56931a9c1&q=heishan\n",
      "Processing Record 366| Zolotukhino\n",
      "http://api.openweathermap.org/data/2.5/weather?units=Imperial&APPID=213d535e09919766a866e1c56931a9c1&q=zolotukhino\n",
      "City not found. Skipping to next city...\n",
      "Processing Record 367| Camopi\n",
      "http://api.openweathermap.org/data/2.5/weather?units=Imperial&APPID=213d535e09919766a866e1c56931a9c1&q=camopi\n",
      "Processing Record 368| College\n",
      "http://api.openweathermap.org/data/2.5/weather?units=Imperial&APPID=213d535e09919766a866e1c56931a9c1&q=college\n",
      "Processing Record 369| Iqaluit\n",
      "http://api.openweathermap.org/data/2.5/weather?units=Imperial&APPID=213d535e09919766a866e1c56931a9c1&q=iqaluit\n",
      "Processing Record 370| Porto-Novo\n",
      "http://api.openweathermap.org/data/2.5/weather?units=Imperial&APPID=213d535e09919766a866e1c56931a9c1&q=porto novo\n",
      "Processing Record 371| Yar-Sale\n",
      "http://api.openweathermap.org/data/2.5/weather?units=Imperial&APPID=213d535e09919766a866e1c56931a9c1&q=yar-sale\n",
      "Processing Record 372| São Filipe\n",
      "http://api.openweathermap.org/data/2.5/weather?units=Imperial&APPID=213d535e09919766a866e1c56931a9c1&q=sao filipe\n",
      "Processing Record 373| Ballina\n",
      "http://api.openweathermap.org/data/2.5/weather?units=Imperial&APPID=213d535e09919766a866e1c56931a9c1&q=ballina\n",
      "Processing Record 374| Necochea\n",
      "http://api.openweathermap.org/data/2.5/weather?units=Imperial&APPID=213d535e09919766a866e1c56931a9c1&q=necochea\n",
      "Processing Record 375| Hibbing\n",
      "http://api.openweathermap.org/data/2.5/weather?units=Imperial&APPID=213d535e09919766a866e1c56931a9c1&q=hibbing\n",
      "Processing Record 376| Abnūb\n",
      "http://api.openweathermap.org/data/2.5/weather?units=Imperial&APPID=213d535e09919766a866e1c56931a9c1&q=abnub\n",
      "Processing Record 377| Flinders\n",
      "http://api.openweathermap.org/data/2.5/weather?units=Imperial&APPID=213d535e09919766a866e1c56931a9c1&q=flinders\n",
      "Processing Record 378| Catamayo\n",
      "http://api.openweathermap.org/data/2.5/weather?units=Imperial&APPID=213d535e09919766a866e1c56931a9c1&q=catamayo\n",
      "Processing Record 379| Waingapu\n",
      "http://api.openweathermap.org/data/2.5/weather?units=Imperial&APPID=213d535e09919766a866e1c56931a9c1&q=waingapu\n",
      "Processing Record 380| Ternate\n",
      "http://api.openweathermap.org/data/2.5/weather?units=Imperial&APPID=213d535e09919766a866e1c56931a9c1&q=ternate\n",
      "Processing Record 381| Margate\n",
      "http://api.openweathermap.org/data/2.5/weather?units=Imperial&APPID=213d535e09919766a866e1c56931a9c1&q=margate\n",
      "Processing Record 382| Mayor Pablo Lagerenza\n",
      "http://api.openweathermap.org/data/2.5/weather?units=Imperial&APPID=213d535e09919766a866e1c56931a9c1&q=mayor pablo lagerenza\n",
      "Processing Record 383| Mgandu\n",
      "http://api.openweathermap.org/data/2.5/weather?units=Imperial&APPID=213d535e09919766a866e1c56931a9c1&q=mgandu\n",
      "Processing Record 384| Kitob\n",
      "http://api.openweathermap.org/data/2.5/weather?units=Imperial&APPID=213d535e09919766a866e1c56931a9c1&q=kitob\n",
      "Processing Record 385| Mirny\n",
      "http://api.openweathermap.org/data/2.5/weather?units=Imperial&APPID=213d535e09919766a866e1c56931a9c1&q=mirnyy\n",
      "Processing Record 386| Takoradze\n",
      "http://api.openweathermap.org/data/2.5/weather?units=Imperial&APPID=213d535e09919766a866e1c56931a9c1&q=takoradi\n",
      "Processing Record 387| Dwārka\n",
      "http://api.openweathermap.org/data/2.5/weather?units=Imperial&APPID=213d535e09919766a866e1c56931a9c1&q=dwarka\n",
      "Processing Record 388| Newport\n",
      "http://api.openweathermap.org/data/2.5/weather?units=Imperial&APPID=213d535e09919766a866e1c56931a9c1&q=newport\n",
      "Processing Record 389| Taos\n",
      "http://api.openweathermap.org/data/2.5/weather?units=Imperial&APPID=213d535e09919766a866e1c56931a9c1&q=taos\n",
      "Processing Record 390| Walvis Bay\n",
      "http://api.openweathermap.org/data/2.5/weather?units=Imperial&APPID=213d535e09919766a866e1c56931a9c1&q=walvis bay\n",
      "Processing Record 391| Starosubkhangulovo\n",
      "http://api.openweathermap.org/data/2.5/weather?units=Imperial&APPID=213d535e09919766a866e1c56931a9c1&q=starosubkhangulovo\n",
      "Processing Record 392| Haileybury\n",
      "http://api.openweathermap.org/data/2.5/weather?units=Imperial&APPID=213d535e09919766a866e1c56931a9c1&q=haileybury\n"
     ]
    },
    {
     "name": "stdout",
     "output_type": "stream",
     "text": [
      "Processing Record 393| Bossangoa\n",
      "http://api.openweathermap.org/data/2.5/weather?units=Imperial&APPID=213d535e09919766a866e1c56931a9c1&q=bossangoa\n",
      "Processing Record 394| Sechura\n",
      "http://api.openweathermap.org/data/2.5/weather?units=Imperial&APPID=213d535e09919766a866e1c56931a9c1&q=sechura\n",
      "Processing Record 395| Palapye\n",
      "http://api.openweathermap.org/data/2.5/weather?units=Imperial&APPID=213d535e09919766a866e1c56931a9c1&q=palapye\n",
      "Processing Record 396| Jatai\n",
      "http://api.openweathermap.org/data/2.5/weather?units=Imperial&APPID=213d535e09919766a866e1c56931a9c1&q=jatai\n",
      "Processing Record 397| Piaçabuçu\n",
      "http://api.openweathermap.org/data/2.5/weather?units=Imperial&APPID=213d535e09919766a866e1c56931a9c1&q=piacabucu\n",
      "Processing Record 398| Cayenne\n",
      "http://api.openweathermap.org/data/2.5/weather?units=Imperial&APPID=213d535e09919766a866e1c56931a9c1&q=cayenne\n",
      "Processing Record 399| Tekkali\n",
      "http://api.openweathermap.org/data/2.5/weather?units=Imperial&APPID=213d535e09919766a866e1c56931a9c1&q=tekkali\n",
      "Processing Record 400| Berlevåg\n",
      "http://api.openweathermap.org/data/2.5/weather?units=Imperial&APPID=213d535e09919766a866e1c56931a9c1&q=berlevag\n",
      "Processing Record 401| Pyn U Lwin\n",
      "http://api.openweathermap.org/data/2.5/weather?units=Imperial&APPID=213d535e09919766a866e1c56931a9c1&q=maymyo\n",
      "Processing Record 402| Auki\n",
      "http://api.openweathermap.org/data/2.5/weather?units=Imperial&APPID=213d535e09919766a866e1c56931a9c1&q=auki\n",
      "Processing Record 403| Bowen\n",
      "http://api.openweathermap.org/data/2.5/weather?units=Imperial&APPID=213d535e09919766a866e1c56931a9c1&q=bowen\n",
      "City not found. Skipping to next city...\n",
      "Processing Record 404| Karaton\n",
      "http://api.openweathermap.org/data/2.5/weather?units=Imperial&APPID=213d535e09919766a866e1c56931a9c1&q=karaton\n",
      "Processing Record 405| Longfeng\n",
      "http://api.openweathermap.org/data/2.5/weather?units=Imperial&APPID=213d535e09919766a866e1c56931a9c1&q=longfeng\n",
      "Processing Record 406| Panabá\n",
      "http://api.openweathermap.org/data/2.5/weather?units=Imperial&APPID=213d535e09919766a866e1c56931a9c1&q=panaba\n",
      "Processing Record 407| Aparecida do Taboado\n",
      "http://api.openweathermap.org/data/2.5/weather?units=Imperial&APPID=213d535e09919766a866e1c56931a9c1&q=aparecida do taboado\n",
      "Processing Record 408| Kralendijk\n",
      "http://api.openweathermap.org/data/2.5/weather?units=Imperial&APPID=213d535e09919766a866e1c56931a9c1&q=kralendijk\n",
      "Processing Record 409| Puerto Carreño\n",
      "http://api.openweathermap.org/data/2.5/weather?units=Imperial&APPID=213d535e09919766a866e1c56931a9c1&q=puerto carreno\n",
      "Processing Record 410| Biharia\n",
      "http://api.openweathermap.org/data/2.5/weather?units=Imperial&APPID=213d535e09919766a866e1c56931a9c1&q=biharia\n",
      "Processing Record 411| Makurdi\n",
      "http://api.openweathermap.org/data/2.5/weather?units=Imperial&APPID=213d535e09919766a866e1c56931a9c1&q=makurdi\n",
      "Processing Record 412| Forrest City\n",
      "http://api.openweathermap.org/data/2.5/weather?units=Imperial&APPID=213d535e09919766a866e1c56931a9c1&q=forrest city\n",
      "Processing Record 413| Cowra\n",
      "http://api.openweathermap.org/data/2.5/weather?units=Imperial&APPID=213d535e09919766a866e1c56931a9c1&q=cowra\n",
      "Processing Record 414| Namatanai\n",
      "http://api.openweathermap.org/data/2.5/weather?units=Imperial&APPID=213d535e09919766a866e1c56931a9c1&q=namatanai\n",
      "Processing Record 415| Paracuru\n",
      "http://api.openweathermap.org/data/2.5/weather?units=Imperial&APPID=213d535e09919766a866e1c56931a9c1&q=paracuru\n",
      "Processing Record 416| Vizinga\n",
      "http://api.openweathermap.org/data/2.5/weather?units=Imperial&APPID=213d535e09919766a866e1c56931a9c1&q=vizinga\n",
      "Processing Record 417| Bonthe\n",
      "http://api.openweathermap.org/data/2.5/weather?units=Imperial&APPID=213d535e09919766a866e1c56931a9c1&q=bonthe\n",
      "Processing Record 418| Aripuanã\n",
      "http://api.openweathermap.org/data/2.5/weather?units=Imperial&APPID=213d535e09919766a866e1c56931a9c1&q=aripuana\n",
      "Processing Record 419| Lyngdal\n",
      "http://api.openweathermap.org/data/2.5/weather?units=Imperial&APPID=213d535e09919766a866e1c56931a9c1&q=lyngdal\n",
      "Processing Record 420| Salekhard\n",
      "http://api.openweathermap.org/data/2.5/weather?units=Imperial&APPID=213d535e09919766a866e1c56931a9c1&q=salekhard\n",
      "Processing Record 421| Nakhon Phanom\n",
      "http://api.openweathermap.org/data/2.5/weather?units=Imperial&APPID=213d535e09919766a866e1c56931a9c1&q=nakhon phanom\n",
      "Processing Record 422| Barra de Tecoanapa\n",
      "http://api.openweathermap.org/data/2.5/weather?units=Imperial&APPID=213d535e09919766a866e1c56931a9c1&q=tecoanapa\n",
      "Processing Record 423| Oistins\n",
      "http://api.openweathermap.org/data/2.5/weather?units=Imperial&APPID=213d535e09919766a866e1c56931a9c1&q=oistins\n",
      "Processing Record 424| Buraidah\n",
      "http://api.openweathermap.org/data/2.5/weather?units=Imperial&APPID=213d535e09919766a866e1c56931a9c1&q=buraydah\n",
      "Processing Record 425| Jagdalpur\n",
      "http://api.openweathermap.org/data/2.5/weather?units=Imperial&APPID=213d535e09919766a866e1c56931a9c1&q=jagdalpur\n",
      "Processing Record 426| Chicama\n",
      "http://api.openweathermap.org/data/2.5/weather?units=Imperial&APPID=213d535e09919766a866e1c56931a9c1&q=chicama\n",
      "Processing Record 427| Cravo Norte\n",
      "http://api.openweathermap.org/data/2.5/weather?units=Imperial&APPID=213d535e09919766a866e1c56931a9c1&q=cravo norte\n",
      "Processing Record 428| Ambanja\n",
      "http://api.openweathermap.org/data/2.5/weather?units=Imperial&APPID=213d535e09919766a866e1c56931a9c1&q=ambanja\n",
      "City not found. Skipping to next city...\n",
      "Processing Record 429| Maniitsoq\n",
      "http://api.openweathermap.org/data/2.5/weather?units=Imperial&APPID=213d535e09919766a866e1c56931a9c1&q=maniitsoq\n",
      "Processing Record 430| Nsoko\n",
      "http://api.openweathermap.org/data/2.5/weather?units=Imperial&APPID=213d535e09919766a866e1c56931a9c1&q=nsoko\n",
      "Processing Record 431| Maxixe\n",
      "http://api.openweathermap.org/data/2.5/weather?units=Imperial&APPID=213d535e09919766a866e1c56931a9c1&q=maxixe\n",
      "Processing Record 432| Baishishan\n",
      "http://api.openweathermap.org/data/2.5/weather?units=Imperial&APPID=213d535e09919766a866e1c56931a9c1&q=baishishan\n",
      "Processing Record 433| Anadyr\n",
      "http://api.openweathermap.org/data/2.5/weather?units=Imperial&APPID=213d535e09919766a866e1c56931a9c1&q=anadyr\n",
      "Processing Record 434| Mwinilunga\n",
      "http://api.openweathermap.org/data/2.5/weather?units=Imperial&APPID=213d535e09919766a866e1c56931a9c1&q=mwinilunga\n",
      "City not found. Skipping to next city...\n",
      "Processing Record 435| Ardeşen\n",
      "http://api.openweathermap.org/data/2.5/weather?units=Imperial&APPID=213d535e09919766a866e1c56931a9c1&q=ardesen\n",
      "Processing Record 436| Fiumicino\n",
      "http://api.openweathermap.org/data/2.5/weather?units=Imperial&APPID=213d535e09919766a866e1c56931a9c1&q=fiumicino\n",
      "Processing Record 437| Hambantota\n",
      "http://api.openweathermap.org/data/2.5/weather?units=Imperial&APPID=213d535e09919766a866e1c56931a9c1&q=hambantota\n",
      "Processing Record 438| Tamandaré\n",
      "http://api.openweathermap.org/data/2.5/weather?units=Imperial&APPID=213d535e09919766a866e1c56931a9c1&q=tamandare\n",
      "Processing Record 439| Kirov\n",
      "http://api.openweathermap.org/data/2.5/weather?units=Imperial&APPID=213d535e09919766a866e1c56931a9c1&q=kirov\n",
      "Processing Record 440| Verkhoyansk\n",
      "http://api.openweathermap.org/data/2.5/weather?units=Imperial&APPID=213d535e09919766a866e1c56931a9c1&q=verkhoyansk\n",
      "Processing Record 441| Kandrian\n",
      "http://api.openweathermap.org/data/2.5/weather?units=Imperial&APPID=213d535e09919766a866e1c56931a9c1&q=kandrian\n",
      "Processing Record 442| Barcelos\n",
      "http://api.openweathermap.org/data/2.5/weather?units=Imperial&APPID=213d535e09919766a866e1c56931a9c1&q=barcelos\n",
      "Processing Record 443| Goderich\n",
      "http://api.openweathermap.org/data/2.5/weather?units=Imperial&APPID=213d535e09919766a866e1c56931a9c1&q=goderich\n",
      "Processing Record 444| Kisangani\n",
      "http://api.openweathermap.org/data/2.5/weather?units=Imperial&APPID=213d535e09919766a866e1c56931a9c1&q=kisangani\n",
      "Processing Record 445| Palu\n",
      "http://api.openweathermap.org/data/2.5/weather?units=Imperial&APPID=213d535e09919766a866e1c56931a9c1&q=palu\n",
      "Processing Record 446| Kamaishi\n",
      "http://api.openweathermap.org/data/2.5/weather?units=Imperial&APPID=213d535e09919766a866e1c56931a9c1&q=kamaishi\n",
      "Processing Record 447| Iguatemi\n",
      "http://api.openweathermap.org/data/2.5/weather?units=Imperial&APPID=213d535e09919766a866e1c56931a9c1&q=iguatemi\n",
      "Processing Record 448| Lompoc\n",
      "http://api.openweathermap.org/data/2.5/weather?units=Imperial&APPID=213d535e09919766a866e1c56931a9c1&q=lompoc\n"
     ]
    },
    {
     "name": "stdout",
     "output_type": "stream",
     "text": [
      "Processing Record 449| Santa Catarina de Tepehuanes\n",
      "http://api.openweathermap.org/data/2.5/weather?units=Imperial&APPID=213d535e09919766a866e1c56931a9c1&q=santa catarina de tepehuanes\n",
      "Processing Record 450| Westport\n",
      "http://api.openweathermap.org/data/2.5/weather?units=Imperial&APPID=213d535e09919766a866e1c56931a9c1&q=westport\n",
      "Processing Record 451| Amposta\n",
      "http://api.openweathermap.org/data/2.5/weather?units=Imperial&APPID=213d535e09919766a866e1c56931a9c1&q=amposta\n",
      "Processing Record 452| Russell\n",
      "http://api.openweathermap.org/data/2.5/weather?units=Imperial&APPID=213d535e09919766a866e1c56931a9c1&q=russell\n",
      "Processing Record 453| Altay\n",
      "http://api.openweathermap.org/data/2.5/weather?units=Imperial&APPID=213d535e09919766a866e1c56931a9c1&q=altay\n",
      "Processing Record 454| The Valley\n",
      "http://api.openweathermap.org/data/2.5/weather?units=Imperial&APPID=213d535e09919766a866e1c56931a9c1&q=the valley\n",
      "Processing Record 455| Cascais\n",
      "http://api.openweathermap.org/data/2.5/weather?units=Imperial&APPID=213d535e09919766a866e1c56931a9c1&q=cascais\n",
      "Processing Record 456| Lagos\n",
      "http://api.openweathermap.org/data/2.5/weather?units=Imperial&APPID=213d535e09919766a866e1c56931a9c1&q=lagos\n",
      "Processing Record 457| Arman'\n",
      "http://api.openweathermap.org/data/2.5/weather?units=Imperial&APPID=213d535e09919766a866e1c56931a9c1&q=arman\n",
      "Processing Record 458| Kutum\n",
      "http://api.openweathermap.org/data/2.5/weather?units=Imperial&APPID=213d535e09919766a866e1c56931a9c1&q=kutum\n",
      "Processing Record 459| Tynda\n",
      "http://api.openweathermap.org/data/2.5/weather?units=Imperial&APPID=213d535e09919766a866e1c56931a9c1&q=tynda\n",
      "Processing Record 460| Angoram\n",
      "http://api.openweathermap.org/data/2.5/weather?units=Imperial&APPID=213d535e09919766a866e1c56931a9c1&q=angoram\n",
      "Processing Record 461| Likasi\n",
      "http://api.openweathermap.org/data/2.5/weather?units=Imperial&APPID=213d535e09919766a866e1c56931a9c1&q=likasi\n",
      "Processing Record 462| Ust-Kuyga\n",
      "http://api.openweathermap.org/data/2.5/weather?units=Imperial&APPID=213d535e09919766a866e1c56931a9c1&q=ust-kuyga\n",
      "Processing Record 463| Conakry\n",
      "http://api.openweathermap.org/data/2.5/weather?units=Imperial&APPID=213d535e09919766a866e1c56931a9c1&q=conakry\n",
      "Processing Record 464| Mahébourg\n",
      "http://api.openweathermap.org/data/2.5/weather?units=Imperial&APPID=213d535e09919766a866e1c56931a9c1&q=mahebourg\n",
      "Processing Record 465| Aykhal\n",
      "http://api.openweathermap.org/data/2.5/weather?units=Imperial&APPID=213d535e09919766a866e1c56931a9c1&q=aykhal\n",
      "Processing Record 466| Umarkot\n",
      "http://api.openweathermap.org/data/2.5/weather?units=Imperial&APPID=213d535e09919766a866e1c56931a9c1&q=umarkot\n",
      "City not found. Skipping to next city...\n",
      "Processing Record 467| Balsas\n",
      "http://api.openweathermap.org/data/2.5/weather?units=Imperial&APPID=213d535e09919766a866e1c56931a9c1&q=balsas\n",
      "Processing Record 468| Nizhneangarsk\n",
      "http://api.openweathermap.org/data/2.5/weather?units=Imperial&APPID=213d535e09919766a866e1c56931a9c1&q=nizhneangarsk\n",
      "Processing Record 469| Hofn\n",
      "http://api.openweathermap.org/data/2.5/weather?units=Imperial&APPID=213d535e09919766a866e1c56931a9c1&q=hofn\n",
      "Processing Record 470| Korla\n",
      "http://api.openweathermap.org/data/2.5/weather?units=Imperial&APPID=213d535e09919766a866e1c56931a9c1&q=korla\n",
      "Processing Record 471| Bāpatla\n",
      "http://api.openweathermap.org/data/2.5/weather?units=Imperial&APPID=213d535e09919766a866e1c56931a9c1&q=bapatla\n",
      "Processing Record 472| Gallup\n",
      "http://api.openweathermap.org/data/2.5/weather?units=Imperial&APPID=213d535e09919766a866e1c56931a9c1&q=gallup\n",
      "Processing Record 473| Ixtapa\n",
      "http://api.openweathermap.org/data/2.5/weather?units=Imperial&APPID=213d535e09919766a866e1c56931a9c1&q=ixtapa\n",
      "Processing Record 474| Nueva Florida\n",
      "http://api.openweathermap.org/data/2.5/weather?units=Imperial&APPID=213d535e09919766a866e1c56931a9c1&q=nueva florida\n",
      "Processing Record 475| Severo-Yeniseyskiy\n",
      "http://api.openweathermap.org/data/2.5/weather?units=Imperial&APPID=213d535e09919766a866e1c56931a9c1&q=severo-yeniseyskiy\n",
      "Processing Record 476| La Huacana\n",
      "http://api.openweathermap.org/data/2.5/weather?units=Imperial&APPID=213d535e09919766a866e1c56931a9c1&q=la huacana\n",
      "Processing Record 477| Umeå\n",
      "http://api.openweathermap.org/data/2.5/weather?units=Imperial&APPID=213d535e09919766a866e1c56931a9c1&q=umea\n",
      "Processing Record 478| Price\n",
      "http://api.openweathermap.org/data/2.5/weather?units=Imperial&APPID=213d535e09919766a866e1c56931a9c1&q=price\n",
      "Processing Record 479| Ust-Maya\n",
      "http://api.openweathermap.org/data/2.5/weather?units=Imperial&APPID=213d535e09919766a866e1c56931a9c1&q=ust-maya\n",
      "Processing Record 480| Saint Anthony\n",
      "http://api.openweathermap.org/data/2.5/weather?units=Imperial&APPID=213d535e09919766a866e1c56931a9c1&q=saint anthony\n",
      "Processing Record 481| Kortkeros\n",
      "http://api.openweathermap.org/data/2.5/weather?units=Imperial&APPID=213d535e09919766a866e1c56931a9c1&q=kortkeros\n",
      "Processing Record 482| Scarborough\n",
      "http://api.openweathermap.org/data/2.5/weather?units=Imperial&APPID=213d535e09919766a866e1c56931a9c1&q=scarborough\n",
      "Processing Record 483| Salò\n",
      "http://api.openweathermap.org/data/2.5/weather?units=Imperial&APPID=213d535e09919766a866e1c56931a9c1&q=salo\n",
      "Processing Record 484| Niamey\n",
      "http://api.openweathermap.org/data/2.5/weather?units=Imperial&APPID=213d535e09919766a866e1c56931a9c1&q=niamey\n",
      "Processing Record 485| Crossville\n",
      "http://api.openweathermap.org/data/2.5/weather?units=Imperial&APPID=213d535e09919766a866e1c56931a9c1&q=crossville\n",
      "Processing Record 486| Ferreira do Alentejo\n",
      "http://api.openweathermap.org/data/2.5/weather?units=Imperial&APPID=213d535e09919766a866e1c56931a9c1&q=ferreira do alentejo\n",
      "Processing Record 487| Along\n",
      "http://api.openweathermap.org/data/2.5/weather?units=Imperial&APPID=213d535e09919766a866e1c56931a9c1&q=along\n",
      "Processing Record 488| Coulommiers\n",
      "http://api.openweathermap.org/data/2.5/weather?units=Imperial&APPID=213d535e09919766a866e1c56931a9c1&q=coulommiers\n",
      "Processing Record 489| Honningsvåg\n",
      "http://api.openweathermap.org/data/2.5/weather?units=Imperial&APPID=213d535e09919766a866e1c56931a9c1&q=honningsvag\n",
      "Processing Record 490| Benghazi\n",
      "http://api.openweathermap.org/data/2.5/weather?units=Imperial&APPID=213d535e09919766a866e1c56931a9c1&q=benghazi\n",
      "City not found. Skipping to next city...\n",
      "Processing Record 491| Severnoye\n",
      "http://api.openweathermap.org/data/2.5/weather?units=Imperial&APPID=213d535e09919766a866e1c56931a9c1&q=severnoye\n",
      "Processing Record 492| Nueva Rosita\n",
      "http://api.openweathermap.org/data/2.5/weather?units=Imperial&APPID=213d535e09919766a866e1c56931a9c1&q=nueva rosita\n",
      "Processing Record 493| Natal\n",
      "http://api.openweathermap.org/data/2.5/weather?units=Imperial&APPID=213d535e09919766a866e1c56931a9c1&q=natal\n",
      "City not found. Skipping to next city...\n",
      "Processing Record 494| Arrecife\n",
      "http://api.openweathermap.org/data/2.5/weather?units=Imperial&APPID=213d535e09919766a866e1c56931a9c1&q=arrecife\n",
      "Processing Record 495| Pangnirtung\n",
      "http://api.openweathermap.org/data/2.5/weather?units=Imperial&APPID=213d535e09919766a866e1c56931a9c1&q=pangnirtung\n",
      "Processing Record 496| Hauterive\n",
      "http://api.openweathermap.org/data/2.5/weather?units=Imperial&APPID=213d535e09919766a866e1c56931a9c1&q=hauterive\n",
      "Processing Record 497| Palmas de Monte Alto\n",
      "http://api.openweathermap.org/data/2.5/weather?units=Imperial&APPID=213d535e09919766a866e1c56931a9c1&q=palmas de monte alto\n",
      "City not found. Skipping to next city...\n",
      "Processing Record 498| Misratah\n",
      "http://api.openweathermap.org/data/2.5/weather?units=Imperial&APPID=213d535e09919766a866e1c56931a9c1&q=misratah\n",
      "Processing Record 499| Colesberg\n",
      "http://api.openweathermap.org/data/2.5/weather?units=Imperial&APPID=213d535e09919766a866e1c56931a9c1&q=colesberg\n",
      "Processing Record 500| Baiyin\n",
      "http://api.openweathermap.org/data/2.5/weather?units=Imperial&APPID=213d535e09919766a866e1c56931a9c1&q=baiyin\n",
      "Processing Record 501| San Quintín\n",
      "http://api.openweathermap.org/data/2.5/weather?units=Imperial&APPID=213d535e09919766a866e1c56931a9c1&q=san quintin\n",
      "City not found. Skipping to next city...\n",
      "Processing Record 502| Rincon\n",
      "http://api.openweathermap.org/data/2.5/weather?units=Imperial&APPID=213d535e09919766a866e1c56931a9c1&q=rincon\n",
      "Processing Record 503| Mabamba\n",
      "http://api.openweathermap.org/data/2.5/weather?units=Imperial&APPID=213d535e09919766a866e1c56931a9c1&q=mabamba\n"
     ]
    },
    {
     "name": "stdout",
     "output_type": "stream",
     "text": [
      "Processing Record 504| Marysville\n",
      "http://api.openweathermap.org/data/2.5/weather?units=Imperial&APPID=213d535e09919766a866e1c56931a9c1&q=marysville\n",
      "Processing Record 505| Changji\n",
      "http://api.openweathermap.org/data/2.5/weather?units=Imperial&APPID=213d535e09919766a866e1c56931a9c1&q=changji\n",
      "Processing Record 506| Panzhihua\n",
      "http://api.openweathermap.org/data/2.5/weather?units=Imperial&APPID=213d535e09919766a866e1c56931a9c1&q=panzhihua\n",
      "Processing Record 507| Umm Hājar\n",
      "http://api.openweathermap.org/data/2.5/weather?units=Imperial&APPID=213d535e09919766a866e1c56931a9c1&q=oum hadjer\n",
      "Processing Record 508| Ābyek\n",
      "http://api.openweathermap.org/data/2.5/weather?units=Imperial&APPID=213d535e09919766a866e1c56931a9c1&q=abyek\n",
      "Processing Record 509| Morón\n",
      "http://api.openweathermap.org/data/2.5/weather?units=Imperial&APPID=213d535e09919766a866e1c56931a9c1&q=moron\n",
      "Processing Record 510| Broome\n",
      "http://api.openweathermap.org/data/2.5/weather?units=Imperial&APPID=213d535e09919766a866e1c56931a9c1&q=broome\n",
      "Processing Record 511| Plouzané\n",
      "http://api.openweathermap.org/data/2.5/weather?units=Imperial&APPID=213d535e09919766a866e1c56931a9c1&q=plouzane\n",
      "City not found. Skipping to next city...\n",
      "Processing Record 512| Mahon\n",
      "http://api.openweathermap.org/data/2.5/weather?units=Imperial&APPID=213d535e09919766a866e1c56931a9c1&q=mahon\n",
      "Processing Record 513| Nānākuli\n",
      "http://api.openweathermap.org/data/2.5/weather?units=Imperial&APPID=213d535e09919766a866e1c56931a9c1&q=nanakuli\n",
      "Processing Record 514| Nerang\n",
      "http://api.openweathermap.org/data/2.5/weather?units=Imperial&APPID=213d535e09919766a866e1c56931a9c1&q=nerang\n",
      "Processing Record 515| Alta Floresta\n",
      "http://api.openweathermap.org/data/2.5/weather?units=Imperial&APPID=213d535e09919766a866e1c56931a9c1&q=alta floresta\n",
      "Processing Record 516| Ancud\n",
      "http://api.openweathermap.org/data/2.5/weather?units=Imperial&APPID=213d535e09919766a866e1c56931a9c1&q=ancud\n",
      "Processing Record 517| Formosa\n",
      "http://api.openweathermap.org/data/2.5/weather?units=Imperial&APPID=213d535e09919766a866e1c56931a9c1&q=formosa\n",
      "Processing Record 518| Miraflores\n",
      "http://api.openweathermap.org/data/2.5/weather?units=Imperial&APPID=213d535e09919766a866e1c56931a9c1&q=miraflores\n",
      "Processing Record 519| Ust'-Koksa\n",
      "http://api.openweathermap.org/data/2.5/weather?units=Imperial&APPID=213d535e09919766a866e1c56931a9c1&q=ust-koksa\n",
      "Processing Record 520| Harindānga\n",
      "http://api.openweathermap.org/data/2.5/weather?units=Imperial&APPID=213d535e09919766a866e1c56931a9c1&q=harindanga\n",
      "City not found. Skipping to next city...\n",
      "Processing Record 521| Wairoa\n",
      "http://api.openweathermap.org/data/2.5/weather?units=Imperial&APPID=213d535e09919766a866e1c56931a9c1&q=wairoa\n",
      "Processing Record 522| Mercedes\n",
      "http://api.openweathermap.org/data/2.5/weather?units=Imperial&APPID=213d535e09919766a866e1c56931a9c1&q=mercedes\n",
      "Processing Record 523| Vao\n",
      "http://api.openweathermap.org/data/2.5/weather?units=Imperial&APPID=213d535e09919766a866e1c56931a9c1&q=vao\n",
      "Processing Record 524| Kailua\n",
      "http://api.openweathermap.org/data/2.5/weather?units=Imperial&APPID=213d535e09919766a866e1c56931a9c1&q=kailua\n",
      "Processing Record 525| Capaci\n",
      "http://api.openweathermap.org/data/2.5/weather?units=Imperial&APPID=213d535e09919766a866e1c56931a9c1&q=capaci\n",
      "Processing Record 526| Kotka\n",
      "http://api.openweathermap.org/data/2.5/weather?units=Imperial&APPID=213d535e09919766a866e1c56931a9c1&q=kotka\n",
      "Processing Record 527| Mackay\n",
      "http://api.openweathermap.org/data/2.5/weather?units=Imperial&APPID=213d535e09919766a866e1c56931a9c1&q=mackay\n",
      "Processing Record 528| Lyuban'\n",
      "http://api.openweathermap.org/data/2.5/weather?units=Imperial&APPID=213d535e09919766a866e1c56931a9c1&q=lyuban\n",
      "Processing Record 529| Karlskrona\n",
      "http://api.openweathermap.org/data/2.5/weather?units=Imperial&APPID=213d535e09919766a866e1c56931a9c1&q=karlskrona\n",
      "Processing Record 530| Poum\n",
      "http://api.openweathermap.org/data/2.5/weather?units=Imperial&APPID=213d535e09919766a866e1c56931a9c1&q=poum\n",
      "City not found. Skipping to next city...\n",
      "Processing Record 531| Prigen\n",
      "http://api.openweathermap.org/data/2.5/weather?units=Imperial&APPID=213d535e09919766a866e1c56931a9c1&q=prigen\n",
      "Processing Record 532| Mt. Pleasant\n",
      "http://api.openweathermap.org/data/2.5/weather?units=Imperial&APPID=213d535e09919766a866e1c56931a9c1&q=mount pleasant\n",
      "Processing Record 533| Tongliao\n",
      "http://api.openweathermap.org/data/2.5/weather?units=Imperial&APPID=213d535e09919766a866e1c56931a9c1&q=tongliao\n",
      "Processing Record 534| Belūsovka\n",
      "http://api.openweathermap.org/data/2.5/weather?units=Imperial&APPID=213d535e09919766a866e1c56931a9c1&q=belousovka\n",
      "Processing Record 535| Buta\n",
      "http://api.openweathermap.org/data/2.5/weather?units=Imperial&APPID=213d535e09919766a866e1c56931a9c1&q=buta\n",
      "Processing Record 536| Myitkyina\n",
      "http://api.openweathermap.org/data/2.5/weather?units=Imperial&APPID=213d535e09919766a866e1c56931a9c1&q=myitkyina\n",
      "Processing Record 537| Nishihara\n",
      "http://api.openweathermap.org/data/2.5/weather?units=Imperial&APPID=213d535e09919766a866e1c56931a9c1&q=nishihara\n",
      "City not found. Skipping to next city...\n",
      "Processing Record 538| Kuril'sk\n",
      "http://api.openweathermap.org/data/2.5/weather?units=Imperial&APPID=213d535e09919766a866e1c56931a9c1&q=kurilsk\n",
      "City not found. Skipping to next city...\n",
      "Processing Record 539| Coromandel\n",
      "http://api.openweathermap.org/data/2.5/weather?units=Imperial&APPID=213d535e09919766a866e1c56931a9c1&q=coromandel\n",
      "Processing Record 540| Haines Junction\n",
      "http://api.openweathermap.org/data/2.5/weather?units=Imperial&APPID=213d535e09919766a866e1c56931a9c1&q=haines junction\n",
      "Processing Record 541| Vilyuysk\n",
      "http://api.openweathermap.org/data/2.5/weather?units=Imperial&APPID=213d535e09919766a866e1c56931a9c1&q=vilyuysk\n",
      "City not found. Skipping to next city...\n",
      "Processing Record 542| Araripe\n",
      "http://api.openweathermap.org/data/2.5/weather?units=Imperial&APPID=213d535e09919766a866e1c56931a9c1&q=araripe\n",
      "Processing Record 543| Ishigaki\n",
      "http://api.openweathermap.org/data/2.5/weather?units=Imperial&APPID=213d535e09919766a866e1c56931a9c1&q=ishigaki\n",
      "Processing Record 544| Sterling\n",
      "http://api.openweathermap.org/data/2.5/weather?units=Imperial&APPID=213d535e09919766a866e1c56931a9c1&q=sterling\n",
      "City not found. Skipping to next city...\n",
      "Processing Record 545| Santarém\n",
      "http://api.openweathermap.org/data/2.5/weather?units=Imperial&APPID=213d535e09919766a866e1c56931a9c1&q=santarem\n",
      "Processing Record 546| Mpika\n",
      "http://api.openweathermap.org/data/2.5/weather?units=Imperial&APPID=213d535e09919766a866e1c56931a9c1&q=mpika\n",
      "Processing Record 547| Corowa\n",
      "http://api.openweathermap.org/data/2.5/weather?units=Imperial&APPID=213d535e09919766a866e1c56931a9c1&q=corowa\n",
      "Processing Record 548| Chara\n",
      "http://api.openweathermap.org/data/2.5/weather?units=Imperial&APPID=213d535e09919766a866e1c56931a9c1&q=chara\n",
      "Processing Record 549| Neuquén\n",
      "http://api.openweathermap.org/data/2.5/weather?units=Imperial&APPID=213d535e09919766a866e1c56931a9c1&q=neuquen\n",
      "Processing Record 550| Buluang\n",
      "http://api.openweathermap.org/data/2.5/weather?units=Imperial&APPID=213d535e09919766a866e1c56931a9c1&q=buluang\n",
      "Processing Record 551| Lékoni\n",
      "http://api.openweathermap.org/data/2.5/weather?units=Imperial&APPID=213d535e09919766a866e1c56931a9c1&q=lekoni\n",
      "Processing Record 552| Nizip\n",
      "http://api.openweathermap.org/data/2.5/weather?units=Imperial&APPID=213d535e09919766a866e1c56931a9c1&q=nizip\n",
      "Processing Record 553| Weatherford\n",
      "http://api.openweathermap.org/data/2.5/weather?units=Imperial&APPID=213d535e09919766a866e1c56931a9c1&q=weatherford\n",
      "Processing Record 554| Vostok\n",
      "http://api.openweathermap.org/data/2.5/weather?units=Imperial&APPID=213d535e09919766a866e1c56931a9c1&q=vostok\n",
      "Processing Record 555| Inírida\n",
      "http://api.openweathermap.org/data/2.5/weather?units=Imperial&APPID=213d535e09919766a866e1c56931a9c1&q=inirida\n",
      "Processing Record 556| Markova\n",
      "http://api.openweathermap.org/data/2.5/weather?units=Imperial&APPID=213d535e09919766a866e1c56931a9c1&q=markova\n",
      "Processing Record 557| Alvdal\n",
      "http://api.openweathermap.org/data/2.5/weather?units=Imperial&APPID=213d535e09919766a866e1c56931a9c1&q=alvdal\n",
      "Processing Record 558| Buala\n",
      "http://api.openweathermap.org/data/2.5/weather?units=Imperial&APPID=213d535e09919766a866e1c56931a9c1&q=buala\n",
      "Processing Record 559| Belaya Gora\n",
      "http://api.openweathermap.org/data/2.5/weather?units=Imperial&APPID=213d535e09919766a866e1c56931a9c1&q=belaya gora\n"
     ]
    },
    {
     "name": "stdout",
     "output_type": "stream",
     "text": [
      "Processing Record 560| Richards Bay\n",
      "http://api.openweathermap.org/data/2.5/weather?units=Imperial&APPID=213d535e09919766a866e1c56931a9c1&q=richards bay\n",
      "Processing Record 561| Nanortalik\n",
      "http://api.openweathermap.org/data/2.5/weather?units=Imperial&APPID=213d535e09919766a866e1c56931a9c1&q=nanortalik\n",
      "Processing Record 562| Outlook\n",
      "http://api.openweathermap.org/data/2.5/weather?units=Imperial&APPID=213d535e09919766a866e1c56931a9c1&q=outlook\n",
      "Processing Record 563| Cabedelo\n",
      "http://api.openweathermap.org/data/2.5/weather?units=Imperial&APPID=213d535e09919766a866e1c56931a9c1&q=cabedelo\n",
      "Processing Record 564| Manavgat\n",
      "http://api.openweathermap.org/data/2.5/weather?units=Imperial&APPID=213d535e09919766a866e1c56931a9c1&q=manavgat\n",
      "-----------------------------\n",
      "Data Retrieval Complete      \n",
      "-----------------------------\n"
     ]
    }
   ],
   "source": [
    "# Base URL for API\n",
    "url = \"http://api.openweathermap.org/data/2.5/weather?units=Imperial&APPID=\" + weather_api_key\n",
    "\n",
    "# Empty lists for holding variables\n",
    "name_city = []\n",
    "lat = []\n",
    "lng = []\n",
    "max_temp = []\n",
    "humidity = []\n",
    "cloud = []\n",
    "wind_spd = []\n",
    "country = []\n",
    "date = []\n",
    "\n",
    "# Create a counter\n",
    "counter = 1\n",
    "\n",
    "# Print Statement\n",
    "print(\"Beginning Data Retrieval\")\n",
    "print(\"-------------------------------\")\n",
    "\n",
    "# Create loop\n",
    "for city in cities:\n",
    "    \n",
    "    # Wrap in try statement for cities with no record found\n",
    "    # Run api request and append the values to the empty lists\n",
    "    try:\n",
    "        response = requests.get(url + \"&q=\" + city).json()\n",
    "        name_city.append(response[\"name\"])\n",
    "        city_counter = response[\"name\"]\n",
    "        lat.append(response[\"coord\"][\"lat\"])\n",
    "        lng.append(response[\"coord\"][\"lon\"])\n",
    "        max_temp.append(response[\"main\"][\"temp_max\"])\n",
    "        humidity.append(response[\"main\"][\"humidity\"])\n",
    "        cloud.append(response[\"clouds\"][\"all\"])\n",
    "        wind_spd.append(response[\"wind\"][\"speed\"])\n",
    "        country.append(response[\"sys\"][\"country\"])\n",
    "        date.append(response[\"dt\"])\n",
    "        print(f\"Processing Record {counter}| {city_counter}\")\n",
    "        print(url + \"&q=\" + city)\n",
    "        \n",
    "        # Increase counter\n",
    "        counter = counter + 1\n",
    "        \n",
    "        # Time delay so that we don't exceed api call limit\n",
    "        time.sleep(1)\n",
    "        \n",
    "    # If no record found, skip and pass to next city\n",
    "    except:\n",
    "        print(\"City not found. Skipping to next city...\")\n",
    "        continue  \n",
    "\n",
    "# End the Data Retrieval with a print statement\n",
    "print(\"-----------------------------\")\n",
    "print(\"Data Retrieval Complete      \")\n",
    "print(\"-----------------------------\")\n",
    "\n",
    " "
   ]
  },
  {
   "cell_type": "markdown",
   "metadata": {},
   "source": [
    "### Convert Raw Data to DataFrame\n",
    "* Export the city data into a .csv.\n",
    "* Display the DataFrame"
   ]
  },
  {
   "cell_type": "code",
   "execution_count": 11,
   "metadata": {},
   "outputs": [
    {
     "data": {
      "text/html": [
       "<div>\n",
       "<style scoped>\n",
       "    .dataframe tbody tr th:only-of-type {\n",
       "        vertical-align: middle;\n",
       "    }\n",
       "\n",
       "    .dataframe tbody tr th {\n",
       "        vertical-align: top;\n",
       "    }\n",
       "\n",
       "    .dataframe thead th {\n",
       "        text-align: right;\n",
       "    }\n",
       "</style>\n",
       "<table border=\"1\" class=\"dataframe\">\n",
       "  <thead>\n",
       "    <tr style=\"text-align: right;\">\n",
       "      <th></th>\n",
       "      <th>City</th>\n",
       "      <th>Lat</th>\n",
       "      <th>Lng</th>\n",
       "      <th>Max Temp</th>\n",
       "      <th>Humidity</th>\n",
       "      <th>Cloudiness</th>\n",
       "      <th>Wind Speed</th>\n",
       "      <th>Country</th>\n",
       "      <th>Date</th>\n",
       "    </tr>\n",
       "  </thead>\n",
       "  <tbody>\n",
       "    <tr>\n",
       "      <th>0</th>\n",
       "      <td>Tilichiki</td>\n",
       "      <td>60.4667</td>\n",
       "      <td>166.1000</td>\n",
       "      <td>58.59</td>\n",
       "      <td>63</td>\n",
       "      <td>71</td>\n",
       "      <td>15.52</td>\n",
       "      <td>RU</td>\n",
       "      <td>1627425893</td>\n",
       "    </tr>\n",
       "    <tr>\n",
       "      <th>1</th>\n",
       "      <td>Hermanus</td>\n",
       "      <td>-34.4187</td>\n",
       "      <td>19.2345</td>\n",
       "      <td>55.80</td>\n",
       "      <td>75</td>\n",
       "      <td>88</td>\n",
       "      <td>15.70</td>\n",
       "      <td>ZA</td>\n",
       "      <td>1627425434</td>\n",
       "    </tr>\n",
       "    <tr>\n",
       "      <th>2</th>\n",
       "      <td>Isangel</td>\n",
       "      <td>-19.5500</td>\n",
       "      <td>169.2667</td>\n",
       "      <td>75.31</td>\n",
       "      <td>69</td>\n",
       "      <td>40</td>\n",
       "      <td>3.44</td>\n",
       "      <td>VU</td>\n",
       "      <td>1627425895</td>\n",
       "    </tr>\n",
       "    <tr>\n",
       "      <th>3</th>\n",
       "      <td>Hobart</td>\n",
       "      <td>-42.8794</td>\n",
       "      <td>147.3294</td>\n",
       "      <td>55.26</td>\n",
       "      <td>82</td>\n",
       "      <td>40</td>\n",
       "      <td>5.01</td>\n",
       "      <td>AU</td>\n",
       "      <td>1627425435</td>\n",
       "    </tr>\n",
       "    <tr>\n",
       "      <th>4</th>\n",
       "      <td>Tegul'det</td>\n",
       "      <td>57.3064</td>\n",
       "      <td>88.1667</td>\n",
       "      <td>50.85</td>\n",
       "      <td>91</td>\n",
       "      <td>29</td>\n",
       "      <td>0.13</td>\n",
       "      <td>RU</td>\n",
       "      <td>1627425898</td>\n",
       "    </tr>\n",
       "  </tbody>\n",
       "</table>\n",
       "</div>"
      ],
      "text/plain": [
       "        City      Lat       Lng  Max Temp  Humidity  Cloudiness  Wind Speed  \\\n",
       "0  Tilichiki  60.4667  166.1000     58.59        63          71       15.52   \n",
       "1   Hermanus -34.4187   19.2345     55.80        75          88       15.70   \n",
       "2    Isangel -19.5500  169.2667     75.31        69          40        3.44   \n",
       "3     Hobart -42.8794  147.3294     55.26        82          40        5.01   \n",
       "4  Tegul'det  57.3064   88.1667     50.85        91          29        0.13   \n",
       "\n",
       "  Country        Date  \n",
       "0      RU  1627425893  \n",
       "1      ZA  1627425434  \n",
       "2      VU  1627425895  \n",
       "3      AU  1627425435  \n",
       "4      RU  1627425898  "
      ]
     },
     "execution_count": 11,
     "metadata": {},
     "output_type": "execute_result"
    }
   ],
   "source": [
    "# Create a dictionary from lists in order to create a Data Frame\n",
    "cities_data = {\n",
    "    \"City\": name_city,\n",
    "    \"Lat\": lat,\n",
    "    \"Lng\": lng,\n",
    "    \"Max Temp\": max_temp,\n",
    "    \"Humidity\": humidity,\n",
    "    \"Cloudiness\": cloud,\n",
    "    \"Wind Speed\": wind_spd,\n",
    "    \"Country\": country,\n",
    "    \"Date\": date\n",
    "}\n",
    "\n",
    "# Create Data Frame\n",
    "weather_df = pd.DataFrame(cities_data)\n",
    "weather_df.head()"
   ]
  },
  {
   "cell_type": "code",
   "execution_count": 7,
   "metadata": {},
   "outputs": [],
   "source": [
    "# Export data to csv\n",
    "weather_df.to_csv('../output_data/cities.csv')"
   ]
  },
  {
   "cell_type": "markdown",
   "metadata": {},
   "source": [
    "## Inspect the data and remove the cities where the humidity > 100%.\n",
    "----\n",
    "Skip this step if there are no cities that have humidity > 100%. "
   ]
  },
  {
   "cell_type": "code",
   "execution_count": 16,
   "metadata": {},
   "outputs": [
    {
     "data": {
      "text/html": [
       "<div>\n",
       "<style scoped>\n",
       "    .dataframe tbody tr th:only-of-type {\n",
       "        vertical-align: middle;\n",
       "    }\n",
       "\n",
       "    .dataframe tbody tr th {\n",
       "        vertical-align: top;\n",
       "    }\n",
       "\n",
       "    .dataframe thead th {\n",
       "        text-align: right;\n",
       "    }\n",
       "</style>\n",
       "<table border=\"1\" class=\"dataframe\">\n",
       "  <thead>\n",
       "    <tr style=\"text-align: right;\">\n",
       "      <th></th>\n",
       "      <th>Lat</th>\n",
       "      <th>Lng</th>\n",
       "      <th>Max Temp</th>\n",
       "      <th>Humidity</th>\n",
       "      <th>Cloudiness</th>\n",
       "      <th>Wind Speed</th>\n",
       "      <th>Date</th>\n",
       "    </tr>\n",
       "  </thead>\n",
       "  <tbody>\n",
       "    <tr>\n",
       "      <th>count</th>\n",
       "      <td>564.000000</td>\n",
       "      <td>564.000000</td>\n",
       "      <td>564.000000</td>\n",
       "      <td>564.000000</td>\n",
       "      <td>564.000000</td>\n",
       "      <td>564.000000</td>\n",
       "      <td>5.640000e+02</td>\n",
       "    </tr>\n",
       "    <tr>\n",
       "      <th>mean</th>\n",
       "      <td>18.698021</td>\n",
       "      <td>21.897716</td>\n",
       "      <td>68.727784</td>\n",
       "      <td>71.831560</td>\n",
       "      <td>53.581560</td>\n",
       "      <td>7.675532</td>\n",
       "      <td>1.627426e+09</td>\n",
       "    </tr>\n",
       "    <tr>\n",
       "      <th>std</th>\n",
       "      <td>33.824203</td>\n",
       "      <td>88.664718</td>\n",
       "      <td>14.027132</td>\n",
       "      <td>20.374949</td>\n",
       "      <td>38.468904</td>\n",
       "      <td>5.460204</td>\n",
       "      <td>3.179365e+02</td>\n",
       "    </tr>\n",
       "    <tr>\n",
       "      <th>min</th>\n",
       "      <td>-54.800000</td>\n",
       "      <td>-175.200000</td>\n",
       "      <td>34.160000</td>\n",
       "      <td>8.000000</td>\n",
       "      <td>0.000000</td>\n",
       "      <td>0.000000</td>\n",
       "      <td>1.627425e+09</td>\n",
       "    </tr>\n",
       "    <tr>\n",
       "      <th>25%</th>\n",
       "      <td>-9.121250</td>\n",
       "      <td>-55.052750</td>\n",
       "      <td>58.285000</td>\n",
       "      <td>62.000000</td>\n",
       "      <td>13.750000</td>\n",
       "      <td>3.440000</td>\n",
       "      <td>1.627426e+09</td>\n",
       "    </tr>\n",
       "    <tr>\n",
       "      <th>50%</th>\n",
       "      <td>22.541700</td>\n",
       "      <td>24.545750</td>\n",
       "      <td>69.790000</td>\n",
       "      <td>76.000000</td>\n",
       "      <td>57.500000</td>\n",
       "      <td>6.680000</td>\n",
       "      <td>1.627426e+09</td>\n",
       "    </tr>\n",
       "    <tr>\n",
       "      <th>75%</th>\n",
       "      <td>46.501700</td>\n",
       "      <td>100.221325</td>\n",
       "      <td>79.155000</td>\n",
       "      <td>87.000000</td>\n",
       "      <td>93.000000</td>\n",
       "      <td>10.597500</td>\n",
       "      <td>1.627426e+09</td>\n",
       "    </tr>\n",
       "    <tr>\n",
       "      <th>max</th>\n",
       "      <td>78.218600</td>\n",
       "      <td>179.316700</td>\n",
       "      <td>104.140000</td>\n",
       "      <td>100.000000</td>\n",
       "      <td>100.000000</td>\n",
       "      <td>26.310000</td>\n",
       "      <td>1.627427e+09</td>\n",
       "    </tr>\n",
       "  </tbody>\n",
       "</table>\n",
       "</div>"
      ],
      "text/plain": [
       "              Lat         Lng    Max Temp    Humidity  Cloudiness  Wind Speed  \\\n",
       "count  564.000000  564.000000  564.000000  564.000000  564.000000  564.000000   \n",
       "mean    18.698021   21.897716   68.727784   71.831560   53.581560    7.675532   \n",
       "std     33.824203   88.664718   14.027132   20.374949   38.468904    5.460204   \n",
       "min    -54.800000 -175.200000   34.160000    8.000000    0.000000    0.000000   \n",
       "25%     -9.121250  -55.052750   58.285000   62.000000   13.750000    3.440000   \n",
       "50%     22.541700   24.545750   69.790000   76.000000   57.500000    6.680000   \n",
       "75%     46.501700  100.221325   79.155000   87.000000   93.000000   10.597500   \n",
       "max     78.218600  179.316700  104.140000  100.000000  100.000000   26.310000   \n",
       "\n",
       "               Date  \n",
       "count  5.640000e+02  \n",
       "mean   1.627426e+09  \n",
       "std    3.179365e+02  \n",
       "min    1.627425e+09  \n",
       "25%    1.627426e+09  \n",
       "50%    1.627426e+09  \n",
       "75%    1.627426e+09  \n",
       "max    1.627427e+09  "
      ]
     },
     "execution_count": 16,
     "metadata": {},
     "output_type": "execute_result"
    }
   ],
   "source": [
    "# Check for humidity over 100 by looking at max value to ensure that we don't have any\n",
    "weather_df.describe()"
   ]
  },
  {
   "cell_type": "code",
   "execution_count": null,
   "metadata": {},
   "outputs": [],
   "source": [
    "\n"
   ]
  },
  {
   "cell_type": "code",
   "execution_count": 15,
   "metadata": {},
   "outputs": [],
   "source": [
    "\n"
   ]
  },
  {
   "cell_type": "code",
   "execution_count": null,
   "metadata": {},
   "outputs": [],
   "source": [
    "\n"
   ]
  },
  {
   "cell_type": "markdown",
   "metadata": {},
   "source": [
    "## Plotting the Data\n",
    "* Use proper labeling of the plots using plot titles (including date of analysis) and axes labels.\n",
    "* Save the plotted figures as .pngs."
   ]
  },
  {
   "cell_type": "markdown",
   "metadata": {},
   "source": [
    "## Latitude vs. Temperature Plot"
   ]
  },
  {
   "cell_type": "code",
   "execution_count": 23,
   "metadata": {
    "scrolled": true
   },
   "outputs": [
    {
     "data": {
      "image/png": "[encoded data removed]",
      "text/plain": [
       "<Figure size 432x288 with 1 Axes>"
      ]
     },
     "metadata": {
      "needs_background": "light"
     },
     "output_type": "display_data"
    }
   ],
   "source": [
    "# Create plot\n",
    "plt.scatter(weather_df[\"Lat\"], weather_df[\"Max Temp\"], marker= \"o\", color= \"green\")\n",
    "\n",
    "# Format\n",
    "plt.xlabel(\"City's Latitude\")\n",
    "plt.ylabel(\"Max Temperature (Farenheight)\")\n",
    "plt.title(\"Latitude of City vs. Max Temperature (F)\")\n",
    "plt.grid(True)\n",
    "\n",
    "# Save figure\n",
    "plt.savefig('../output_data/lat_vs_temp.png')\n"
   ]
  },
  {
   "cell_type": "markdown",
   "metadata": {},
   "source": [
    "## Latitude vs. Humidity Plot"
   ]
  },
  {
   "cell_type": "code",
   "execution_count": 25,
   "metadata": {},
   "outputs": [
    {
     "data": {
      "image/png": "[encoded data removed]",
      "text/plain": [
       "<Figure size 432x288 with 1 Axes>"
      ]
     },
     "metadata": {
      "needs_background": "light"
     },
     "output_type": "display_data"
    }
   ],
   "source": [
    "# Create plot\n",
    "plt.scatter(weather_df[\"Lat\"], weather_df[\"Humidity\"], marker= \"o\", color= \"purple\")\n",
    "\n",
    "# Format\n",
    "plt.xlabel(\"City's Latitude\")\n",
    "plt.ylabel(\"Humidity (%)\")\n",
    "plt.title(\"Latitude of City vs. Humidity (%)\")\n",
    "plt.grid(True)\n",
    "\n",
    "# Save figure\n",
    "plt.savefig('../output_data/lat_vs_humidity.png')"
   ]
  },
  {
   "cell_type": "markdown",
   "metadata": {},
   "source": [
    "## Latitude vs. Cloudiness Plot"
   ]
  },
  {
   "cell_type": "code",
   "execution_count": 27,
   "metadata": {},
   "outputs": [
    {
     "data": {
      "image/png": "[encoded data removed]",
      "text/plain": [
       "<Figure size 432x288 with 1 Axes>"
      ]
     },
     "metadata": {
      "needs_background": "light"
     },
     "output_type": "display_data"
    }
   ],
   "source": [
    "# Create plot\n",
    "plt.scatter(weather_df[\"Lat\"], weather_df[\"Cloudiness\"], marker= \"o\", color= \"red\")\n",
    "\n",
    "# Format\n",
    "plt.xlabel(\"City's Latitude\")\n",
    "plt.ylabel(\"Cloudiness (%)\")\n",
    "plt.title(\"Latitude of City vs. Cloudiness (%)\")\n",
    "plt.grid(True)\n",
    "\n",
    "# Save figure\n",
    "plt.savefig('../output_data/lat_vs_cloud.png')"
   ]
  },
  {
   "cell_type": "markdown",
   "metadata": {},
   "source": [
    "## Latitude vs. Wind Speed Plot"
   ]
  },
  {
   "cell_type": "code",
   "execution_count": 30,
   "metadata": {},
   "outputs": [
    {
     "data": {
      "image/png": "[encoded data removed]",
      "text/plain": [
       "<Figure size 432x288 with 1 Axes>"
      ]
     },
     "metadata": {
      "needs_background": "light"
     },
     "output_type": "display_data"
    }
   ],
   "source": [
    "# Create plot\n",
    "plt.scatter(weather_df[\"Lat\"], weather_df[\"Wind Speed\"], marker= \"o\", color= \"blue\")\n",
    "\n",
    "# Format\n",
    "plt.xlabel(\"City's Latitude\")\n",
    "plt.ylabel(\"Wind Speed (mph)\")\n",
    "plt.title(\"Latitude of City vs. Wind Speed (mph)\")\n",
    "plt.grid(True)\n",
    "\n",
    "# Save figure\n",
    "plt.savefig('../output_data/lat_vs_wind.png')"
   ]
  },
  {
   "cell_type": "markdown",
   "metadata": {},
   "source": [
    "## Linear Regression"
   ]
  },
  {
   "cell_type": "code",
   "execution_count": 66,
   "metadata": {},
   "outputs": [],
   "source": [
    "# Divide data into northern and southern hemisphere\n",
    "north_hemi = weather_df.loc[weather_df[\"Lat\"] >= 0]\n",
    "south_hemi = weather_df.loc[weather_df[\"Lat\"] < 0]\n",
    "\n",
    "# Linear Regression Formula\n",
    "def linear_regression(x_values,y_values):\n",
    "    (slope, intercept, rvalue, pvalue, stderr) = linregress(x_values, y_values)\n",
    "    regress_values = x_values * slope + intercept\n",
    "    line_eq = \"y = \" + str(round(slope,2)) + \"x + \" + str(round(intercept,2))\n",
    "    plt.scatter(x_values,y_values, color =\"blue\")\n",
    "    plt.plot(x_values,regress_values,\"r-\", color =\"green\")\n",
    "    plt.annotate(line_eq,(x_values.median(),y_values.median()),color=\"red\")\n",
    "    plt.xlabel(\"Latitude\")\n",
    "    print(f\"The r-value is: {rvalue}\")\n",
    "    plt.show()"
   ]
  },
  {
   "cell_type": "markdown",
   "metadata": {},
   "source": [
    "####  Northern Hemisphere - Max Temp vs. Latitude Linear Regression"
   ]
  },
  {
   "cell_type": "code",
   "execution_count": 67,
   "metadata": {},
   "outputs": [
    {
     "name": "stdout",
     "output_type": "stream",
     "text": [
      "The r-value is: -0.6425980482762778\n"
     ]
    },
    {
     "data": {
      "image/png": "[encoded data removed]",
      "text/plain": [
       "<Figure size 432x288 with 1 Axes>"
      ]
     },
     "metadata": {
      "needs_background": "light"
     },
     "output_type": "display_data"
    },
    {
     "name": "stdout",
     "output_type": "stream",
     "text": [
      "None\n"
     ]
    },
    {
     "data": {
      "text/plain": [
       "<Figure size 432x288 with 0 Axes>"
      ]
     },
     "metadata": {},
     "output_type": "display_data"
    }
   ],
   "source": [
    "x_values = north_hemi['Lat']\n",
    "y_values = north_hemi['Max Temp']\n",
    "plt.ylabel(\"Max Temp (F)\")\n",
    "plt.grid(True)\n",
    "print(linear_regression(x_values,y_values))\n",
    "\n",
    "# Save Figure\n",
    "plt.savefig('../output_data/north_hemi_temp_vs_lat.png')"
   ]
  },
  {
   "cell_type": "markdown",
   "metadata": {},
   "source": [
    "####  Southern Hemisphere - Max Temp vs. Latitude Linear Regression"
   ]
  },
  {
   "cell_type": "code",
   "execution_count": 68,
   "metadata": {},
   "outputs": [
    {
     "name": "stdout",
     "output_type": "stream",
     "text": [
      "The r-value is: 0.7849618242613556\n"
     ]
    },
    {
     "data": {
      "image/png": "[encoded data removed]",
      "text/plain": [
       "<Figure size 432x288 with 1 Axes>"
      ]
     },
     "metadata": {
      "needs_background": "light"
     },
     "output_type": "display_data"
    },
    {
     "name": "stdout",
     "output_type": "stream",
     "text": [
      "None\n"
     ]
    },
    {
     "data": {
      "text/plain": [
       "<Figure size 432x288 with 0 Axes>"
      ]
     },
     "metadata": {},
     "output_type": "display_data"
    }
   ],
   "source": [
    "x_values = south_hemi['Lat']\n",
    "y_values = south_hemi['Max Temp']\n",
    "plt.ylabel(\"Max Temp (F)\")\n",
    "plt.grid(True)\n",
    "print(linear_regression(x_values,y_values))\n",
    "\n",
    "# Save Figure\n",
    "plt.savefig('../output_data/south_hemi_temp_vs_lat.png')"
   ]
  },
  {
   "cell_type": "markdown",
   "metadata": {},
   "source": [
    "####  Northern Hemisphere - Humidity (%) vs. Latitude Linear Regression"
   ]
  },
  {
   "cell_type": "code",
   "execution_count": 69,
   "metadata": {},
   "outputs": [
    {
     "name": "stdout",
     "output_type": "stream",
     "text": [
      "The r-value is: -0.0012599574534671294\n"
     ]
    },
    {
     "data": {
      "image/png": "[encoded data removed]",
      "text/plain": [
       "<Figure size 432x288 with 1 Axes>"
      ]
     },
     "metadata": {
      "needs_background": "light"
     },
     "output_type": "display_data"
    },
    {
     "name": "stdout",
     "output_type": "stream",
     "text": [
      "None\n"
     ]
    },
    {
     "data": {
      "text/plain": [
       "<Figure size 432x288 with 0 Axes>"
      ]
     },
     "metadata": {},
     "output_type": "display_data"
    }
   ],
   "source": [
    "x_values = north_hemi['Lat']\n",
    "y_values = north_hemi['Humidity']\n",
    "plt.ylabel(\"Humidity (%)\")\n",
    "plt.grid(True)\n",
    "print(linear_regression(x_values,y_values))\n",
    "\n",
    "# Save Figure\n",
    "plt.savefig('../output_data/north_hemi_humid_vs_lat.png')"
   ]
  },
  {
   "cell_type": "markdown",
   "metadata": {},
   "source": [
    "####  Southern Hemisphere - Humidity (%) vs. Latitude Linear Regression"
   ]
  },
  {
   "cell_type": "code",
   "execution_count": 70,
   "metadata": {},
   "outputs": [
    {
     "name": "stdout",
     "output_type": "stream",
     "text": [
      "The r-value is: 0.07183247774323455\n"
     ]
    },
    {
     "data": {
      "image/png": "[encoded data removed]",
      "text/plain": [
       "<Figure size 432x288 with 1 Axes>"
      ]
     },
     "metadata": {
      "needs_background": "light"
     },
     "output_type": "display_data"
    },
    {
     "name": "stdout",
     "output_type": "stream",
     "text": [
      "None\n"
     ]
    },
    {
     "data": {
      "text/plain": [
       "<Figure size 432x288 with 0 Axes>"
      ]
     },
     "metadata": {},
     "output_type": "display_data"
    }
   ],
   "source": [
    "x_values = south_hemi['Lat']\n",
    "y_values = south_hemi['Humidity']\n",
    "plt.ylabel(\"Humidity (%)\")\n",
    "plt.grid(True)\n",
    "print(linear_regression(x_values,y_values))\n",
    "\n",
    "# Save Figure\n",
    "plt.savefig('../output_data/south_hemi_humid_vs_lat.png')"
   ]
  },
  {
   "cell_type": "markdown",
   "metadata": {},
   "source": [
    "####  Northern Hemisphere - Cloudiness (%) vs. Latitude Linear Regression"
   ]
  },
  {
   "cell_type": "code",
   "execution_count": 71,
   "metadata": {},
   "outputs": [
    {
     "name": "stdout",
     "output_type": "stream",
     "text": [
      "The r-value is: -0.1076553910519619\n"
     ]
    },
    {
     "data": {
      "image/png": "[encoded data removed]",
      "text/plain": [
       "<Figure size 432x288 with 1 Axes>"
      ]
     },
     "metadata": {
      "needs_background": "light"
     },
     "output_type": "display_data"
    },
    {
     "name": "stdout",
     "output_type": "stream",
     "text": [
      "None\n"
     ]
    },
    {
     "data": {
      "text/plain": [
       "<Figure size 432x288 with 0 Axes>"
      ]
     },
     "metadata": {},
     "output_type": "display_data"
    }
   ],
   "source": [
    "x_values = north_hemi['Lat']\n",
    "y_values = north_hemi['Cloudiness']\n",
    "plt.ylabel(\"Cloudiness (%))\")\n",
    "plt.grid(True)\n",
    "print(linear_regression(x_values,y_values))\n",
    "\n",
    "# Save Figure\n",
    "plt.savefig('../output_data/north_hemi_cloud_vs_lat.png')"
   ]
  },
  {
   "cell_type": "markdown",
   "metadata": {},
   "source": [
    "####  Southern Hemisphere - Cloudiness (%) vs. Latitude Linear Regression"
   ]
  },
  {
   "cell_type": "code",
   "execution_count": 72,
   "metadata": {},
   "outputs": [
    {
     "name": "stdout",
     "output_type": "stream",
     "text": [
      "The r-value is: 0.056882131839576945\n"
     ]
    },
    {
     "data": {
      "image/png": "[encoded data removed]",
      "text/plain": [
       "<Figure size 432x288 with 1 Axes>"
      ]
     },
     "metadata": {
      "needs_background": "light"
     },
     "output_type": "display_data"
    },
    {
     "name": "stdout",
     "output_type": "stream",
     "text": [
      "None\n"
     ]
    },
    {
     "data": {
      "text/plain": [
       "<Figure size 432x288 with 0 Axes>"
      ]
     },
     "metadata": {},
     "output_type": "display_data"
    }
   ],
   "source": [
    "x_values = south_hemi['Lat']\n",
    "y_values = south_hemi['Cloudiness']\n",
    "plt.ylabel(\"Cloudiness (%))\")\n",
    "plt.grid(True)\n",
    "print(linear_regression(x_values,y_values))\n",
    "\n",
    "# Save Figure\n",
    "plt.savefig('../output_data/south_hemi_cloud_vs_lat.png')"
   ]
  },
  {
   "cell_type": "markdown",
   "metadata": {},
   "source": [
    "####  Northern Hemisphere - Wind Speed (mph) vs. Latitude Linear Regression"
   ]
  },
  {
   "cell_type": "code",
   "execution_count": 73,
   "metadata": {},
   "outputs": [
    {
     "name": "stdout",
     "output_type": "stream",
     "text": [
      "The r-value is: 0.017921588543148365\n"
     ]
    },
    {
     "data": {
      "image/png": "[encoded data removed]",
      "text/plain": [
       "<Figure size 432x288 with 1 Axes>"
      ]
     },
     "metadata": {
      "needs_background": "light"
     },
     "output_type": "display_data"
    },
    {
     "name": "stdout",
     "output_type": "stream",
     "text": [
      "None\n"
     ]
    },
    {
     "data": {
      "text/plain": [
       "<Figure size 432x288 with 0 Axes>"
      ]
     },
     "metadata": {},
     "output_type": "display_data"
    }
   ],
   "source": [
    "x_values = north_hemi['Lat']\n",
    "y_values = north_hemi['Wind Speed']\n",
    "plt.ylabel(\"Wind Speed (mph\")\n",
    "plt.grid(True)\n",
    "print(linear_regression(x_values,y_values))\n",
    "\n",
    "# Save Figure\n",
    "plt.savefig('../output_data/north_hemi_wind_vs_lat.png')"
   ]
  },
  {
   "cell_type": "markdown",
   "metadata": {},
   "source": [
    "####  Southern Hemisphere - Wind Speed (mph) vs. Latitude Linear Regression"
   ]
  },
  {
   "cell_type": "code",
   "execution_count": 74,
   "metadata": {},
   "outputs": [
    {
     "name": "stdout",
     "output_type": "stream",
     "text": [
      "The r-value is: -0.2277562705835206\n"
     ]
    },
    {
     "data": {
      "image/png": "[encoded data removed]",
      "text/plain": [
       "<Figure size 432x288 with 1 Axes>"
      ]
     },
     "metadata": {
      "needs_background": "light"
     },
     "output_type": "display_data"
    },
    {
     "name": "stdout",
     "output_type": "stream",
     "text": [
      "None\n"
     ]
    },
    {
     "data": {
      "text/plain": [
       "<Figure size 432x288 with 0 Axes>"
      ]
     },
     "metadata": {},
     "output_type": "display_data"
    }
   ],
   "source": [
    "x_values = south_hemi['Lat']\n",
    "y_values = south_hemi['Wind Speed']\n",
    "plt.ylabel(\"Wind Speed (mph\")\n",
    "plt.grid(True)\n",
    "print(linear_regression(x_values,y_values))\n",
    "\n",
    "# Save Figure\n",
    "plt.savefig('../output_data/south_hemi_wind_vs_lat.png')"
   ]
  },
  {
   "cell_type": "code",
   "execution_count": null,
   "metadata": {},
   "outputs": [],
   "source": []
  }
 ],
 "metadata": {
  "anaconda-cloud": {},
  "kernel_info": {
   "name": "python3"
  },
  "kernelspec": {
   "display_name": "Python 3",
   "language": "python",
   "name": "python3"
  },
  "language_info": {
   "codemirror_mode": {
    "name": "ipython",
    "version": 3
   },
   "file_extension": ".py",
   "mimetype": "text/x-python",
   "name": "python",
   "nbconvert_exporter": "python",
   "pygments_lexer": "ipython3",
   "version": "3.8.8"
  },
  "latex_envs": {
   "LaTeX_envs_menu_present": true,
   "autoclose": false,
   "autocomplete": true,
   "bibliofile": "biblio.bib",
   "cite_by": "apalike",
   "current_citInitial": 1,
   "eqLabelWithNumbers": true,
   "eqNumInitial": 1,
   "hotkeys": {
    "equation": "Ctrl-E",
    "itemize": "Ctrl-I"
   },
   "labels_anchors": false,
   "latex_user_defs": false,
   "report_style_numbering": false,
   "user_envs_cfg": false
  },
  "nteract": {
   "version": "0.12.3"
  }
 },
 "nbformat": 4,
 "nbformat_minor": 2
}
